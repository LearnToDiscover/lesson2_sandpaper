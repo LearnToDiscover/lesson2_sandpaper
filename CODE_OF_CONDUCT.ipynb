{
 "cells": [
  {
   "cell_type": "raw",
   "id": "53326101",
   "metadata": {},
   "source": [
    "---\n",
    "title: \"Contributor Code of Conduct\"\n",
    "---"
   ]
  },
  {
   "cell_type": "markdown",
   "id": "97f7c32f",
   "metadata": {},
   "source": [
    "As contributors and maintainers of this project,\n",
    "we pledge to follow the [Carpentry Code of Conduct][coc].\n",
    "\n",
    "Instances of abusive, harassing, or otherwise unacceptable behavior\n",
    "may be reported by following our [reporting guidelines][coc-reporting]."
   ]
  },
  {
   "cell_type": "markdown",
   "id": "4d64c624",
   "metadata": {},
   "source": [
    "[coc-reporting]: https://docs.carpentries.org/topic_folders/policies/incident-reporting.html\n",
    "[coc]: https://docs.carpentries.org/topic_folders/policies/code-of-conduct.html"
   ]
  }
 ],
 "metadata": {
  "jupytext": {
   "cell_metadata_filter": "-all",
   "main_language": "python",
   "notebook_metadata_filter": "-all"
  }
 },
 "nbformat": 4,
 "nbformat_minor": 5
}
