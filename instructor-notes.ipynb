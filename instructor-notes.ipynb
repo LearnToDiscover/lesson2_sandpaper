{
 "cells": [
  {
   "cell_type": "raw",
   "id": "ce3eb0ee",
   "metadata": {},
   "source": [
    "---\n",
    "title: FIXME\n",
    "---"
   ]
  },
  {
   "cell_type": "markdown",
   "id": "12185ffc",
   "metadata": {},
   "source": [
    "This is a placeholder file. Please add content here. "
   ]
  }
 ],
 "metadata": {
  "jupytext": {
   "cell_metadata_filter": "-all",
   "main_language": "python",
   "notebook_metadata_filter": "-all"
  }
 },
 "nbformat": 4,
 "nbformat_minor": 5
}
