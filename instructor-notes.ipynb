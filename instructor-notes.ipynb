{
 "cells": [
  {
   "cell_type": "raw",
   "id": "18c66c78",
   "metadata": {},
   "source": [
    "---\n",
    "title: FIXME\n",
    "---"
   ]
  },
  {
   "cell_type": "markdown",
   "id": "aa02639e",
   "metadata": {},
   "source": [
    "This is a placeholder file. Please add content here. "
   ]
  }
 ],
 "metadata": {
  "jupytext": {
   "cell_metadata_filter": "-all",
   "main_language": "python",
   "notebook_metadata_filter": "-all"
  }
 },
 "nbformat": 4,
 "nbformat_minor": 5
}
