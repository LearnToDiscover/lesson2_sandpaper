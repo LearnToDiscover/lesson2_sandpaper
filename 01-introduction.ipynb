{
 "cells": [
  {
   "cell_type": "raw",
   "id": "0761ea16",
   "metadata": {},
   "source": [
    "---\n",
    "title: \"Data Frames\"\n",
    "teaching: 6\n",
    "exercises: 2\n",
    "output: pdf_document\n",
    "---"
   ]
  },
  {
   "cell_type": "markdown",
   "id": "0b951b4e",
   "metadata": {},
   "source": [
    "\n",
    "- How to use dataframes in Python?\n"
   ]
  },
  {
   "cell_type": "markdown",
   "id": "d8fb9d26",
   "metadata": {},
   "source": [
    "- Import data set as dataframe\n",
    "- Inspect data frame and access data\n",
    "- Produce an overview of data features\n",
    "- Create data plots using matplotlib\n",
    "\n",
    "## Video Tutorials\n",
    "\n",
    "### Pandas Dataframes - Import and Data Handling\n",
    "\n",
    "<p align = \"center\">\n",
    "<iframe width=\"400\" height=\"225\" src=\"https://www.youtube.com/embed/wPiNrk6zpHc\" title=\"YouTube video player\" frameborder=\"0\" allow=\"accelerometer; autoplay; clipboard-write; encrypted-media; gyroscope; picture-in-picture\" allowfullscreen></iframe>\n",
    "</p>\n",
    "\n",
    "### Pandas Dataframes - Visualisation \n",
    "\n",
    "<p align = \"center\">\n",
    "<iframe width=\"400\" height=\"225\" src=\"https://www.youtube.com/embed/QviydJKaSro\" title=\"YouTube video player\" frameborder=\"0\" allow=\"accelerometer; autoplay; clipboard-write; encrypted-media; gyroscope; picture-in-picture\" allowfullscreen></iframe>\n",
    "</p>\n",
    "\n",
    "## Introduction\n",
    "\n",
    "This is our first lesson on learning and understanding dataframes in Python.\n",
    "\n"
   ]
  },
  {
   "cell_type": "markdown",
   "id": "a8408a8f",
   "metadata": {},
   "source": [
    "The diabetes data set is one of the challenging task.\n"
   ]
  },
  {
   "cell_type": "markdown",
   "id": "dcbfaebe",
   "metadata": {},
   "source": [
    "## Challenge: The diabetes data set\n",
    "\n",
    "Here is a screenshot of the so-called diabetes data set. It is taken from \n",
    "[this webpage](https://www4.stat.ncsu.edu/~boos/var.select/diabetes.tab.txt) and it is one of the [example data sets](https://scikit-learn.org/stable/modules/generated/sklearn.datasets.load_diabetes.html) used to illustrate machine learning functionality in scikit-learn (Part III and Part IV of the course). \n",
    "\n",
    "![](fig/diabetes_data_screenshot.png \"Screenshot of Diabetes Data\")"
   ]
  },
  {
   "cell_type": "markdown",
   "id": "1b35a613",
   "metadata": {},
   "source": [
    "This figure captures only the top part of the data. On the webpage you need to scroll down considerably to view the whole content. Thus, to get an __overview__ of the dataset is the first main task in Data Science. "
   ]
  },
  {
   "cell_type": "markdown",
   "id": "03908bdd",
   "metadata": {},
   "source": [
    "## The lesson\n",
    "\n",
    "- introduces code to read and inspect the data\n",
    "- works with a specific data frame and extracts some techniques to get an overview\n",
    "- discusses the concept 'distribution' as a way of summarising data in a single figure\n",
    "\n"
   ]
  },
  {
   "cell_type": "markdown",
   "id": "0b581bfb",
   "metadata": {},
   "source": [
    "### To get to know a dataset you need to\n",
    "\n",
    "- access the data\n",
    "- check the content\n",
    "- produce a summary of basic properties"
   ]
  },
  {
   "cell_type": "markdown",
   "id": "b933d56c",
   "metadata": {},
   "source": [
    "In this lesson we will only look at univariate features where each data column is studied independently of the others. Further properties and bivariate features will be the topic of the next lesson. \n"
   ]
  },
  {
   "cell_type": "markdown",
   "id": "34b950d9",
   "metadata": {},
   "source": [
    "## Work Through Example"
   ]
  },
  {
   "cell_type": "markdown",
   "id": "dc01021a",
   "metadata": {},
   "source": [
    "## Reading data into a Pandas DataFrame\n",
    "\n",
    "The small practice data file for this section is called 'everleys_data.csv' and can be downloaded using the link given above in \"Materials for this Lesson\". To start, please create a subfolder called 'data' in the current directory and put the data file in it. It can now be accessed using the relative path `data/everleys_data.csv` or `data\\everleys_data.csv`, respectively.\n",
    "\n",
    "The file `everleys_data.csv` contains blood concentrations of calcium and sodium ions from 17 patients with Everley's syndrome. The data are taken from a [BMJ statistics tutorial](https://www.bmj.com/about-bmj/resources-readers/publications/statistics-square-one/7-t-tests). The data are stored as comma-separated values (csv), two values for each patient.\n",
    "\n",
    "To get to know a dataset, we will use the Pandas package and the Matplotlib plotting. The Pandas package for data science is included in the Anaconda distribution of Python. Check this [link for installation instructions](https://pandas.pydata.org/getting_started.html) to get started. \n",
    "\n",
    "If you are not using the Anaconda distribution, pease refer to [these guidelines](https://pandas.pydata.org/docs/getting_started/install.html). \n",
    "\n",
    "To use the functions contained in Pandas they need to be imported. Our dataset is in '.csv' format, and we therefore need to read it from a csv file. For this, we import the function `read_csv`. This will create a _Pandas dataframe_.\n",
    "\n",
    "\n",
    "\n",
    "\n",
    "\n"
   ]
  },
  {
   "cell_type": "code",
   "execution_count": null,
   "id": "143ca2d2",
   "metadata": {},
   "outputs": [],
   "source": [
    "import sys\n",
    "print(sys.version)"
   ]
  },
  {
   "cell_type": "markdown",
   "id": "c3aa9066",
   "metadata": {},
   "source": [
    "```{.output}\n",
    "3.10.8 (main, Oct 18 2022, 06:43:21) [GCC 9.4.0]\n",
    "```\n",
    "\n"
   ]
  },
  {
   "cell_type": "code",
   "execution_count": null,
   "id": "4dbacd45",
   "metadata": {
    "lines_to_next_cell": 0
   },
   "outputs": [],
   "source": [
    "from pandas import read_csv"
   ]
  },
  {
   "cell_type": "markdown",
   "id": "4ea1f541",
   "metadata": {},
   "source": []
  },
  {
   "cell_type": "markdown",
   "id": "ef3c3b22",
   "metadata": {},
   "source": [
    "Executing this code does not lead to any output on the screen. However, the function is now ready to be used. To use it, we type its name and provide the required arguments. The following code should import the Everley's data into your JupyterLab notebook (or other Python environment):\n"
   ]
  },
  {
   "cell_type": "code",
   "execution_count": null,
   "id": "dc6fdbf6",
   "metadata": {
    "lines_to_next_cell": 2
   },
   "outputs": [],
   "source": [
    "# for Mac OSX and Linux\n",
    "# (please go to the next cell if using Windows)\n",
    "\n",
    "df = read_csv(\"data/everleys_data.csv\") "
   ]
  },
  {
   "cell_type": "code",
   "execution_count": null,
   "id": "feadea47",
   "metadata": {},
   "outputs": [],
   "source": [
    "# please uncomment for Windows\n",
    "# (please go to previous cell if using Mac OSX or Linux)\n",
    "\n",
    "# df = read_csv(\"data\\everleys_data.csv\") \n"
   ]
  },
  {
   "cell_type": "markdown",
   "id": "5c7ab735",
   "metadata": {},
   "source": [
    "This code uses the `read_csv` function from Pandas to read data from a data file, in this case a file with extension '.csv'. Note that the location of the data file is specified within quotes by the relative path to the subfolder 'data' followed by the file name. Use the JupyterLab file browser to check that subfolder exists and has the file in it.\n",
    "\n",
    "![](fig/subfolder_data.png \"Screenshot of subfolder 'data' \")"
   ]
  },
  {
   "cell_type": "markdown",
   "id": "b0cf002b",
   "metadata": {},
   "source": [
    "After execution of the code, the data are contained in a variable called `df`. This is a structure referred to as a Pandas _DataFrame_. \n",
    "\n",
    "> A [__Pandas dataframe__](https://pandas.pydata.org/pandas-docs/stable/user_guide/dsintro.html#dataframe) is a 2-dimensional labeled data structure with columns of potentially different types. You can think of it as a spreadsheet. "
   ]
  },
  {
   "cell_type": "markdown",
   "id": "63450fd8",
   "metadata": {},
   "source": [
    "To see the contents of `df`, simply use:\n",
    "\n"
   ]
  },
  {
   "cell_type": "code",
   "execution_count": null,
   "id": "d9174bf1",
   "metadata": {},
   "outputs": [],
   "source": [
    "df"
   ]
  },
  {
   "cell_type": "markdown",
   "id": "7ae2194d",
   "metadata": {},
   "source": [
    "```{.output}\n",
    "     calcium      sodium\n",
    "0   3.455582  112.690980\n",
    "1   3.669026  125.663330\n",
    "2   2.789910  105.821810\n",
    "3   2.939900   98.172772\n",
    "4   5.426060   97.931489\n",
    "5   0.715811  120.858330\n",
    "6   5.652390  112.871500\n",
    "7   3.571320  112.647360\n",
    "8   4.300067  132.031720\n",
    "9   1.369419  118.499010\n",
    "10  2.550962  117.373730\n",
    "11  2.894129  134.052390\n",
    "12  3.664987  105.346410\n",
    "13  1.362779  123.359490\n",
    "14  3.718798  125.021060\n",
    "15  1.865868  112.075420\n",
    "16  3.272809  117.588040\n",
    "17  3.917591  101.009870\n",
    "```"
   ]
  },
  {
   "cell_type": "markdown",
   "id": "6106d02c",
   "metadata": {},
   "source": [
    "(Compare with the result of `print(df)` which displays the contents in a different format.) \n",
    "\n",
    "The output shows in the first column an index, integers from 0 to 17; and the calcium and sodium concentrations in columns 2 and 3, respectively. The default indexing starts from zero (Python is a 'zero-based' programming language).\n",
    "\n",
    "In a dataframe, the first column is referred to as _Indices_, the first row is referred to as _Labels_. Note that the row with the labels is excluded from the row count. Similarly, the row with the indices is excluded from the column count. "
   ]
  },
  {
   "cell_type": "markdown",
   "id": "526a3c7d",
   "metadata": {},
   "source": [
    "For large data sets, the function `head` is a convenient way to get a feel of the dataset.\n",
    "\n"
   ]
  },
  {
   "cell_type": "code",
   "execution_count": null,
   "id": "b26f6712",
   "metadata": {},
   "outputs": [],
   "source": [
    "df.head()"
   ]
  },
  {
   "cell_type": "markdown",
   "id": "e63aeb4c",
   "metadata": {},
   "source": [
    "```{.output}\n",
    "    calcium      sodium\n",
    "0  3.455582  112.690980\n",
    "1  3.669026  125.663330\n",
    "2  2.789910  105.821810\n",
    "3  2.939900   98.172772\n",
    "4  5.426060   97.931489\n",
    "```"
   ]
  },
  {
   "cell_type": "markdown",
   "id": "67c1827c",
   "metadata": {},
   "source": [
    "Without any input argument, this displays the first five data lines of the dataframe. You can specify alter the number of rows displayed by including a single integer as argument, e.g. `head(10)`.\n",
    "\n",
    "If you feel there are too many decimal places in the default view, you can restrict their number by using the `round` function:\n",
    "\n"
   ]
  },
  {
   "cell_type": "code",
   "execution_count": null,
   "id": "c67f066f",
   "metadata": {},
   "outputs": [],
   "source": [
    "df.head().round(2)"
   ]
  },
  {
   "cell_type": "markdown",
   "id": "d5c9f8d5",
   "metadata": {},
   "source": [
    "```{.output}\n",
    "   calcium  sodium\n",
    "0     3.46  112.69\n",
    "1     3.67  125.66\n",
    "2     2.79  105.82\n",
    "3     2.94   98.17\n",
    "4     5.43   97.93\n",
    "```"
   ]
  },
  {
   "cell_type": "markdown",
   "id": "727685ed",
   "metadata": {},
   "source": [
    "While we can see how many rows there are in a dataframe when we display the whole data frame and look at the last index, there is a convenient way to obtain the number directly:\n",
    "\n"
   ]
  },
  {
   "cell_type": "code",
   "execution_count": null,
   "id": "8a8659ba",
   "metadata": {},
   "outputs": [],
   "source": [
    "no_rows = len(df)\n",
    "\n",
    "print('Data frame has', no_rows, 'rows')"
   ]
  },
  {
   "cell_type": "markdown",
   "id": "c81b7074",
   "metadata": {},
   "source": [
    "```{.output}\n",
    "Data frame has 18 rows\n",
    "```\n",
    "\n",
    "You could see above, that the columns of the dataframe have labels. To see all labels:\n",
    "\n"
   ]
  },
  {
   "cell_type": "code",
   "execution_count": null,
   "id": "be846e8e",
   "metadata": {},
   "outputs": [],
   "source": [
    "column_labels = df.columns\n",
    "\n",
    "print(column_labels)"
   ]
  },
  {
   "cell_type": "markdown",
   "id": "9b70f34c",
   "metadata": {},
   "source": [
    "```{.output}\n",
    "Index(['calcium', 'sodium'], dtype='object')\n",
    "```"
   ]
  },
  {
   "cell_type": "markdown",
   "id": "7a902823",
   "metadata": {},
   "source": [
    "Now we can count the labels to obtain the number of columns:\n",
    "\n"
   ]
  },
  {
   "cell_type": "code",
   "execution_count": null,
   "id": "b18d9378",
   "metadata": {},
   "outputs": [],
   "source": [
    "no_columns = len(column_labels)\n",
    "\n",
    "print('Data frame has', no_columns, 'columns')"
   ]
  },
  {
   "cell_type": "markdown",
   "id": "0edbfa5a",
   "metadata": {},
   "source": [
    "```{.output}\n",
    "Data frame has 2 columns\n",
    "```"
   ]
  },
  {
   "cell_type": "markdown",
   "id": "49615303",
   "metadata": {},
   "source": [
    "And if you want to have both the number of the rows and the columns together, use `shape`. Shape returns a tuple of two numbers, first the number of rows, then the number of columns.\n",
    "\n"
   ]
  },
  {
   "cell_type": "code",
   "execution_count": null,
   "id": "791dcc0f",
   "metadata": {},
   "outputs": [],
   "source": [
    "df_shape = df.shape\n",
    "\n",
    "print('Data frame has', df_shape[0], 'rows and',df_shape[1],  'columns')"
   ]
  },
  {
   "cell_type": "markdown",
   "id": "a55edb0a",
   "metadata": {},
   "source": [
    "```{.output}\n",
    "Data frame has 18 rows and 2 columns\n",
    "```"
   ]
  },
  {
   "cell_type": "markdown",
   "id": "ef39b963",
   "metadata": {},
   "source": [
    "Notice that `shape` (like `columns`) is not followed by round parenthesis. It is not a function that can take arguments. Technically, `shape` is a 'property' of the dataframe."
   ]
  },
  {
   "cell_type": "markdown",
   "id": "0a12bec0",
   "metadata": {},
   "source": [
    "To find out what data type is contained in each of the columns, us `dtypes`, another 'property':\n",
    "\n"
   ]
  },
  {
   "cell_type": "code",
   "execution_count": null,
   "id": "a944e18e",
   "metadata": {},
   "outputs": [],
   "source": [
    "df.dtypes"
   ]
  },
  {
   "cell_type": "markdown",
   "id": "58e66ceb",
   "metadata": {},
   "source": [
    "```{.output}\n",
    "calcium    float64\n",
    "sodium     float64\n",
    "dtype: object\n",
    "```\n",
    "\n",
    "In this case, both columns contain floating point (decimal) numbers.\n"
   ]
  },
  {
   "cell_type": "markdown",
   "id": "2531e3b5",
   "metadata": {},
   "source": [
    "## DIY1: Read data into a dataframe\n",
    "   \n",
    "Download the data file 'loan_data.csv' using the link given above in \"Materials for this Lesson\". It contains data that can be used for the assessment of loan applications. Read the data into a DataFrame. It is best to assign it a name other than 'df' (to avoid overwriting the Evereley data set). \n",
    "\n",
    "Display the first ten rows of the Loan data set to see its contents. It is taken from a [tutorial on Data Handling in Python](https://www.analyticsvidhya.com/blog/2016/01/complete-tutorial-learn-data-science-python-scratch-2/) which you might find useful for further practice. "
   ]
  },
  {
   "cell_type": "markdown",
   "id": "8028b377",
   "metadata": {},
   "source": [
    "From this exercise we can see that a dataframe can contain different types of data: real numbers (e.g. LoanAmount), integers (ApplicantIncome), categorical data (Gender), and strings (Loan_ID). \n",
    "\n"
   ]
  },
  {
   "cell_type": "code",
   "execution_count": null,
   "id": "bc808082",
   "metadata": {},
   "outputs": [],
   "source": [
    "from pandas import read_csv\n",
    "\n",
    "# dataframe from .csv file\n",
    "df_loan = read_csv(\"data/loan_data.csv\") \n",
    "\n",
    "# display contents\n",
    "df_loan.head(10)"
   ]
  },
  {
   "cell_type": "markdown",
   "id": "b4a76d48",
   "metadata": {},
   "source": [
    "```{.output}\n",
    "    Loan_ID  Gender Married  ... Loan_Amount_Term Credit_History Property_Area\n",
    "0  LP001015    Male     Yes  ...            360.0            1.0         Urban\n",
    "1  LP001022    Male     Yes  ...            360.0            1.0         Urban\n",
    "2  LP001031    Male     Yes  ...            360.0            1.0         Urban\n",
    "3  LP001035    Male     Yes  ...            360.0            NaN         Urban\n",
    "4  LP001051    Male      No  ...            360.0            1.0         Urban\n",
    "5  LP001054    Male     Yes  ...            360.0            1.0         Urban\n",
    "6  LP001055  Female      No  ...            360.0            1.0     Semiurban\n",
    "7  LP001056    Male     Yes  ...            360.0            0.0         Rural\n",
    "8  LP001059    Male     Yes  ...            240.0            1.0         Urban\n",
    "9  LP001067    Male      No  ...            360.0            1.0     Semiurban\n",
    "\n",
    "[10 rows x 12 columns]\n",
    "```\n",
    "\n",
    "## Accessing data in a DataFrame\n",
    "\n",
    "If a datafile is large and you only want to check the format of data in a specific column, you can limit the display to that column.\n",
    "To access data contained in a specific column of a dataframe, we can use a similar convention as in a Python dictionary, treating the column names as 'keys'. E.g. to show all rows in column 'Calcium', use:\n",
    "\n"
   ]
  },
  {
   "cell_type": "code",
   "execution_count": null,
   "id": "ee17d8f9",
   "metadata": {},
   "outputs": [],
   "source": [
    "df['calcium']"
   ]
  },
  {
   "cell_type": "markdown",
   "id": "43fc0b2c",
   "metadata": {},
   "source": [
    "```{.output}\n",
    "0     3.455582\n",
    "1     3.669026\n",
    "2     2.789910\n",
    "3     2.939900\n",
    "4     5.426060\n",
    "5     0.715811\n",
    "6     5.652390\n",
    "7     3.571320\n",
    "8     4.300067\n",
    "9     1.369419\n",
    "10    2.550962\n",
    "11    2.894129\n",
    "12    3.664987\n",
    "13    1.362779\n",
    "14    3.718798\n",
    "15    1.865868\n",
    "16    3.272809\n",
    "17    3.917591\n",
    "Name: calcium, dtype: float64\n",
    "```"
   ]
  },
  {
   "cell_type": "markdown",
   "id": "bb147065",
   "metadata": {},
   "source": [
    "To access individual rows of a column we use two pairs of square brackets:\n"
   ]
  },
  {
   "cell_type": "code",
   "execution_count": null,
   "id": "958f3af6",
   "metadata": {},
   "outputs": [],
   "source": [
    "df['calcium'][0:3]"
   ]
  },
  {
   "cell_type": "markdown",
   "id": "092840f1",
   "metadata": {},
   "source": [
    "```{.output}\n",
    "0    3.455582\n",
    "1    3.669026\n",
    "2    2.789910\n",
    "Name: calcium, dtype: float64\n",
    "```\n",
    "\n",
    "Here all rules for [slicing](https://docs.python.org/3/tutorial/introduction.html) can be applied.\n",
    "As for lists and tuples, the indexing of rows is semi-inclusive, lower boundary included, upper boundary excluded.\n",
    "Note that the first pair of square brackets refers to a column and the second pair refers to the rows. This is different from e.g. accessing items in a nested list.\n",
    "\n",
    "Accessing items in a Pandas dataframe is analogous to accessing the values in a Python dictionary by referring to its keys."
   ]
  },
  {
   "cell_type": "markdown",
   "id": "769925c2",
   "metadata": {},
   "source": [
    "To access non-contiguous elements, we use an additional pair of square brackets (as if for a list within a list):\n"
   ]
  },
  {
   "cell_type": "code",
   "execution_count": null,
   "id": "a38fb439",
   "metadata": {},
   "outputs": [],
   "source": [
    "df['calcium'][[1, 3, 7]]"
   ]
  },
  {
   "cell_type": "markdown",
   "id": "1d128f5e",
   "metadata": {},
   "source": [
    "```{.output}\n",
    "1    3.669026\n",
    "3    2.939900\n",
    "7    3.571320\n",
    "Name: calcium, dtype: float64\n",
    "```\n",
    "\n",
    "Another possibility to index and slice a dataframe is the use of the 'index location' or `iloc` property. It refers first to rows and then to columns by index, all within a single pair of brackets. For example, to get all rows `:` of the first column (index `0`), you use:\n",
    "\n",
    "\n"
   ]
  },
  {
   "cell_type": "code",
   "execution_count": null,
   "id": "1e173ed7",
   "metadata": {},
   "outputs": [],
   "source": [
    "df.iloc[:, 0]"
   ]
  },
  {
   "cell_type": "markdown",
   "id": "32fd498c",
   "metadata": {},
   "source": [
    "```{.output}\n",
    "0     3.455582\n",
    "1     3.669026\n",
    "2     2.789910\n",
    "3     2.939900\n",
    "4     5.426060\n",
    "5     0.715811\n",
    "6     5.652390\n",
    "7     3.571320\n",
    "8     4.300067\n",
    "9     1.369419\n",
    "10    2.550962\n",
    "11    2.894129\n",
    "12    3.664987\n",
    "13    1.362779\n",
    "14    3.718798\n",
    "15    1.865868\n",
    "16    3.272809\n",
    "17    3.917591\n",
    "Name: calcium, dtype: float64\n",
    "```\n",
    "\n",
    "To display only the first three calcium concentrations, you use slicing, remembering that the upper bound is excluded):\n",
    "\n"
   ]
  },
  {
   "cell_type": "code",
   "execution_count": null,
   "id": "3a99b7a9",
   "metadata": {},
   "outputs": [],
   "source": [
    "df.iloc[0:3, 0]"
   ]
  },
  {
   "cell_type": "markdown",
   "id": "b2afaf1a",
   "metadata": {},
   "source": [
    "```{.output}\n",
    "0    3.455582\n",
    "1    3.669026\n",
    "2    2.789910\n",
    "Name: calcium, dtype: float64\n",
    "```\n",
    "\n",
    "To access non-consecutive values, we can use a pair of square brackets within the pair of square brackets: \n"
   ]
  },
  {
   "cell_type": "code",
   "execution_count": null,
   "id": "82ae7a08",
   "metadata": {},
   "outputs": [],
   "source": [
    "df.iloc[[2, 4, 7], 0]"
   ]
  },
  {
   "cell_type": "markdown",
   "id": "53a4ff6a",
   "metadata": {},
   "source": [
    "```{.output}\n",
    "2    2.78991\n",
    "4    5.42606\n",
    "7    3.57132\n",
    "Name: calcium, dtype: float64\n",
    "```\n",
    "\n",
    "Similarly, we can access the values from multiple columns:\n",
    "\n"
   ]
  },
  {
   "cell_type": "code",
   "execution_count": null,
   "id": "3c29a979",
   "metadata": {},
   "outputs": [],
   "source": [
    "df.iloc[[2, 4, 7], :]"
   ]
  },
  {
   "cell_type": "markdown",
   "id": "fb6ee2ea",
   "metadata": {},
   "source": [
    "```{.output}\n",
    "   calcium      sodium\n",
    "2  2.78991  105.821810\n",
    "4  5.42606   97.931489\n",
    "7  3.57132  112.647360\n",
    "```\n",
    "\n",
    "To pick only the even rows from the two columns, check this colon notation:\n",
    "\n"
   ]
  },
  {
   "cell_type": "code",
   "execution_count": null,
   "id": "491202d9",
   "metadata": {},
   "outputs": [],
   "source": [
    "df.iloc[:18:2, :]"
   ]
  },
  {
   "cell_type": "markdown",
   "id": "4431206a",
   "metadata": {},
   "source": [
    "```{.output}\n",
    "     calcium      sodium\n",
    "0   3.455582  112.690980\n",
    "2   2.789910  105.821810\n",
    "4   5.426060   97.931489\n",
    "6   5.652390  112.871500\n",
    "8   4.300067  132.031720\n",
    "10  2.550962  117.373730\n",
    "12  3.664987  105.346410\n",
    "14  3.718798  125.021060\n",
    "16  3.272809  117.588040\n",
    "```\n",
    "\n",
    "The number after the second colon indicates the stepsize."
   ]
  },
  {
   "cell_type": "markdown",
   "id": "3ab81080",
   "metadata": {},
   "source": [
    "## DIY2: Select data from dataframe\n",
    "\n",
    "Display the calcium and sodium concentrations of all patients except the first. Check the model solution at the bottom for options.\n",
    "\n"
   ]
  },
  {
   "cell_type": "code",
   "execution_count": null,
   "id": "d36d3729",
   "metadata": {},
   "outputs": [],
   "source": [
    "df[['calcium', 'sodium']][1:]"
   ]
  },
  {
   "cell_type": "markdown",
   "id": "4b01fff0",
   "metadata": {},
   "source": [
    "```{.output}\n",
    "     calcium      sodium\n",
    "1   3.669026  125.663330\n",
    "2   2.789910  105.821810\n",
    "3   2.939900   98.172772\n",
    "4   5.426060   97.931489\n",
    "5   0.715811  120.858330\n",
    "6   5.652390  112.871500\n",
    "7   3.571320  112.647360\n",
    "8   4.300067  132.031720\n",
    "9   1.369419  118.499010\n",
    "10  2.550962  117.373730\n",
    "11  2.894129  134.052390\n",
    "12  3.664987  105.346410\n",
    "13  1.362779  123.359490\n",
    "14  3.718798  125.021060\n",
    "15  1.865868  112.075420\n",
    "16  3.272809  117.588040\n",
    "17  3.917591  101.009870\n",
    "```\n"
   ]
  },
  {
   "cell_type": "markdown",
   "id": "86e35f4a",
   "metadata": {},
   "source": [
    "Mixing the ways to access specific data in a dataframe can be confusing and needs practice.\n",
    "\n",
    "### Search for missing values\n",
    "\n",
    "Some tables contain missing entries. You can check a dataframe for such missing entries. If no missing entry is found, the function `isnull` will return `False`.\n"
   ]
  },
  {
   "cell_type": "code",
   "execution_count": null,
   "id": "f527c27e",
   "metadata": {},
   "outputs": [],
   "source": [
    "df.isnull().any()"
   ]
  },
  {
   "cell_type": "markdown",
   "id": "6e0386e4",
   "metadata": {},
   "source": [
    "```{.output}\n",
    "calcium    False\n",
    "sodium     False\n",
    "dtype: bool\n",
    "```\n",
    "\n",
    "This shows that there are no missing entries in our dataframe.\n",
    "\n",
    "## DIY3: Find NaN in dataframe\n",
    "\n",
    " In the Loan data set, check the entry 'Self-employed' for ID LP001059. It shows how a missing value is represented as 'NaN' (not a number).\n",
    "\n",
    " Verify that the output of `isnull` in this case is `True`\n",
    " \n"
   ]
  },
  {
   "cell_type": "code",
   "execution_count": null,
   "id": "ceee4fe1",
   "metadata": {},
   "outputs": [],
   "source": [
    "df_loan['Self_Employed'][8]"
   ]
  },
  {
   "cell_type": "markdown",
   "id": "d2f7bf99",
   "metadata": {},
   "source": [
    "```{.output}\n",
    "nan\n",
    "```\n",
    "\n"
   ]
  },
  {
   "cell_type": "code",
   "execution_count": null,
   "id": "d5822e23",
   "metadata": {},
   "outputs": [],
   "source": [
    "df_loan['Self_Employed'][8:9].isnull()"
   ]
  },
  {
   "cell_type": "markdown",
   "id": "ecc196a5",
   "metadata": {},
   "source": [
    "```{.output}\n",
    "8    True\n",
    "Name: Self_Employed, dtype: bool\n",
    "```\n"
   ]
  },
  {
   "cell_type": "markdown",
   "id": "354e2791",
   "metadata": {},
   "source": [
    "## Basic data features\n",
    "\n",
    "### Summary Statistics\n",
    "\n",
    "To get a summary of basic data features use the function `describe`:\n",
    "\n"
   ]
  },
  {
   "cell_type": "code",
   "execution_count": null,
   "id": "f3f5ef9c",
   "metadata": {},
   "outputs": [],
   "source": [
    "description = df.describe()\n",
    "\n",
    "description"
   ]
  },
  {
   "cell_type": "markdown",
   "id": "70831d39",
   "metadata": {},
   "source": [
    "```{.output}\n",
    "         calcium      sodium\n",
    "count  18.000000   18.000000\n",
    "mean    3.174301  115.167484\n",
    "std     1.306652   10.756852\n",
    "min     0.715811   97.931489\n",
    "25%     2.610699  107.385212\n",
    "50%     3.364195  115.122615\n",
    "75%     3.706355  122.734200\n",
    "max     5.652390  134.052390\n",
    "```"
   ]
  },
  {
   "cell_type": "markdown",
   "id": "b5cedc71",
   "metadata": {},
   "source": [
    "The `describe` function produces a new dataframe (here called 'descrition') that contains the number of samples, the mean, the standard deviation, minimum, 25th, 50th, 75th  percentile, and the maximum value for each column of the data. Note that the indices of the rows have now been replaced by strings. To access rows, it is possible to refer to those names using the `loc` property. E.g. to access the mean of the calcium concentrations from the description, each of the following is valid:\n",
    "\n",
    "\n"
   ]
  },
  {
   "cell_type": "code",
   "execution_count": null,
   "id": "aa2bc604",
   "metadata": {},
   "outputs": [],
   "source": [
    "# Option 1\n",
    "description.loc['mean']['calcium']\n",
    "\n",
    "# Option 2"
   ]
  },
  {
   "cell_type": "markdown",
   "id": "cd62309a",
   "metadata": {},
   "source": [
    "```{.output}\n",
    "3.1743005405555555\n",
    "```"
   ]
  },
  {
   "cell_type": "code",
   "execution_count": null,
   "id": "bcf35803",
   "metadata": {},
   "outputs": [],
   "source": [
    "description.loc['mean'][0]\n",
    "\n",
    "# Option 3"
   ]
  },
  {
   "cell_type": "markdown",
   "id": "231f1281",
   "metadata": {},
   "source": [
    "```{.output}\n",
    "3.1743005405555555\n",
    "```"
   ]
  },
  {
   "cell_type": "code",
   "execution_count": null,
   "id": "6afab00e",
   "metadata": {},
   "outputs": [],
   "source": [
    "description['calcium']['mean']\n",
    "\n",
    "# Option 4"
   ]
  },
  {
   "cell_type": "markdown",
   "id": "7b5e9d8e",
   "metadata": {},
   "source": [
    "```{.output}\n",
    "3.1743005405555555\n",
    "```"
   ]
  },
  {
   "cell_type": "code",
   "execution_count": null,
   "id": "c42609f7",
   "metadata": {},
   "outputs": [],
   "source": [
    "description['calcium'][1]"
   ]
  },
  {
   "cell_type": "markdown",
   "id": "1942085b",
   "metadata": {},
   "source": [
    "```{.output}\n",
    "3.1743005405555555\n",
    "```"
   ]
  },
  {
   "cell_type": "markdown",
   "id": "f1ed9c2a",
   "metadata": {},
   "source": [
    "## DIY4: Practice\n",
    "\n",
    "Use your own .csv data set to practice. (If you don't have a data set at hand, any excel table can be exported as .csv.) Read it into a dataframe, check its header, access indivdual values or sets of values. Create a statistics using `describe` and check for missing values using `.isnull`.\n",
    "\n",
    " [ad libitum]"
   ]
  },
  {
   "cell_type": "markdown",
   "id": "0177d9eb",
   "metadata": {},
   "source": [
    "### Iterating through the columns\n",
    "\n",
    "Now we know how to access all data in a dataframe and how to get a summary statistics over each column. \n",
    "\n",
    "Here is code to iterate through the columns and access the first two concentrations: \n",
    "\n"
   ]
  },
  {
   "cell_type": "code",
   "execution_count": null,
   "id": "e9dfa941",
   "metadata": {},
   "outputs": [],
   "source": [
    "for col in df:\n",
    "    \n",
    "    print(df[col][0:2])"
   ]
  },
  {
   "cell_type": "markdown",
   "id": "10ba12d5",
   "metadata": {},
   "source": [
    "```{.output}\n",
    "0    3.455582\n",
    "1    3.669026\n",
    "Name: calcium, dtype: float64\n",
    "0    112.69098\n",
    "1    125.66333\n",
    "Name: sodium, dtype: float64\n",
    "```\n",
    "\n",
    "As a slightly more complex example, we access the median ('50%') of each column in the description and add it to a list:\n",
    "\n"
   ]
  },
  {
   "cell_type": "code",
   "execution_count": null,
   "id": "f4ec289b",
   "metadata": {},
   "outputs": [],
   "source": [
    "conc_medians = list()\n",
    "\n",
    "for col in df:\n",
    "    \n",
    "    conc_medians.append(df[col].describe()['50%'])\n",
    "\n",
    "print('The columns are: ', list(df.columns))"
   ]
  },
  {
   "cell_type": "markdown",
   "id": "40795a94",
   "metadata": {},
   "source": [
    "```{.output}\n",
    "The columns are:  ['calcium', 'sodium']\n",
    "```"
   ]
  },
  {
   "cell_type": "code",
   "execution_count": null,
   "id": "a86c885a",
   "metadata": {},
   "outputs": [],
   "source": [
    "print('The medians are: ', conc_medians)"
   ]
  },
  {
   "cell_type": "markdown",
   "id": "cf0a3ea4",
   "metadata": {},
   "source": [
    "```{.output}\n",
    "The medians are:  [3.3641954, 115.122615]\n",
    "```\n",
    "\n",
    "This approach is useful for data frames with a large number of columns. For instance, it is possible to then create a boxplot or histogram for the means, medians etc. of the dataframe and thus to get an overview of all (comparable) columns. \n",
    "\n",
    "### Selecting a subset based on a template\n",
    "\n",
    "An analysis of a data set may need to be done on part of the data. This can often be formulated by using a logical condition which specifies the required subset.\n",
    "\n",
    "For this we will assume that some of the data are labelled '0' and some are labelled '1'. Let us therefore see how to add a new column to our Evereleys data frame which contains the (in this case arbitrary) labels.\n",
    "\n",
    "First we randomly create as many labels as we have rows in the data frame. We can use the `randint` function which we import from 'numpy.random'. `randint` in its simple form takes two arguments. First the upper bound of the integer needed, where by default it starts from zero. As Python is exclusive on the upper bound, providing '2' will thus yield either '0' or '1' only. \n",
    "\n",
    "\n"
   ]
  },
  {
   "cell_type": "code",
   "execution_count": null,
   "id": "83ffbc70",
   "metadata": {},
   "outputs": [],
   "source": [
    "from numpy.random import randint\n",
    "\n",
    "no_rows = len(df)\n",
    "randomLabel = randint(2, size=no_rows)\n",
    "\n",
    "print('Number of rows:  ', no_rows)"
   ]
  },
  {
   "cell_type": "markdown",
   "id": "a86922bf",
   "metadata": {},
   "source": [
    "```{.output}\n",
    "Number of rows:   18\n",
    "```"
   ]
  },
  {
   "cell_type": "code",
   "execution_count": null,
   "id": "2b6ed68d",
   "metadata": {},
   "outputs": [],
   "source": [
    "print('Number of Labels:', len(randomLabel))"
   ]
  },
  {
   "cell_type": "markdown",
   "id": "0ba7c2d8",
   "metadata": {},
   "source": [
    "```{.output}\n",
    "Number of Labels: 18\n",
    "```"
   ]
  },
  {
   "cell_type": "code",
   "execution_count": null,
   "id": "28eb8478",
   "metadata": {},
   "outputs": [],
   "source": [
    "print('Labels:          ', randomLabel)"
   ]
  },
  {
   "cell_type": "markdown",
   "id": "a3f765e3",
   "metadata": {},
   "source": [
    "```{.output}\n",
    "Labels:           [0 1 0 0 0 0 0 1 1 0 1 1 0 1 0 1 0 1]\n",
    "```"
   ]
  },
  {
   "cell_type": "markdown",
   "id": "3098d80e",
   "metadata": {},
   "source": [
    "Note how we obtain the number of rows (18) using `len` and do not put it directly into the code. \n",
    "\n",
    "Now we create a new data column in our `df` dataframe which contains the labels. To create a new column, you can simply refer to a column name that does not yet exist and assign values to it. Let us call it 'gender', assuming that '0' represents male and '1' represents female. \n",
    "\n",
    "As gender specification can include more than two labels, try to create a column with more than two randomly assigned labels e.g. (0, 1, 2).\n",
    "\n",
    "\n"
   ]
  },
  {
   "cell_type": "code",
   "execution_count": null,
   "id": "080782d0",
   "metadata": {},
   "outputs": [],
   "source": [
    "df['gender'] = randomLabel\n",
    "\n",
    "df.head()"
   ]
  },
  {
   "cell_type": "markdown",
   "id": "988d6f27",
   "metadata": {},
   "source": [
    "```{.output}\n",
    "    calcium      sodium  gender\n",
    "0  3.455582  112.690980       0\n",
    "1  3.669026  125.663330       1\n",
    "2  2.789910  105.821810       0\n",
    "3  2.939900   98.172772       0\n",
    "4  5.426060   97.931489       0\n",
    "```\n",
    "\n",
    "Now we can use the information contained in 'gender' to filter the data by gender. To achieve this, we use a conditional statement. Let us check which of the rows are labelled as '1':\n",
    "\n",
    "\n"
   ]
  },
  {
   "cell_type": "code",
   "execution_count": null,
   "id": "26baf70b",
   "metadata": {},
   "outputs": [],
   "source": [
    "df['gender'] == 1"
   ]
  },
  {
   "cell_type": "markdown",
   "id": "2b31edcb",
   "metadata": {},
   "source": [
    "```{.output}\n",
    "0     False\n",
    "1      True\n",
    "2     False\n",
    "3     False\n",
    "4     False\n",
    "5     False\n",
    "6     False\n",
    "7      True\n",
    "8      True\n",
    "9     False\n",
    "10     True\n",
    "11     True\n",
    "12    False\n",
    "13     True\n",
    "14    False\n",
    "15     True\n",
    "16    False\n",
    "17     True\n",
    "Name: gender, dtype: bool\n",
    "```\n",
    "\n",
    "If we assign the result of the conditional statement (Boolean True or False) to a variable, then this variable can act as a template to filter the data. If we call the data frame with that variable, we will only get the rows where the condition was found to be True:\n"
   ]
  },
  {
   "cell_type": "code",
   "execution_count": null,
   "id": "8777971b",
   "metadata": {},
   "outputs": [],
   "source": [
    "df_female = df['gender'] == 1\n",
    "\n",
    "df[df_female]"
   ]
  },
  {
   "cell_type": "markdown",
   "id": "3df2aecb",
   "metadata": {},
   "source": [
    "```{.output}\n",
    "     calcium     sodium  gender\n",
    "1   3.669026  125.66333       1\n",
    "7   3.571320  112.64736       1\n",
    "8   4.300067  132.03172       1\n",
    "10  2.550962  117.37373       1\n",
    "11  2.894129  134.05239       1\n",
    "13  1.362779  123.35949       1\n",
    "15  1.865868  112.07542       1\n",
    "17  3.917591  101.00987       1\n",
    "```"
   ]
  },
  {
   "cell_type": "markdown",
   "id": "a0f55401",
   "metadata": {},
   "source": [
    "Using the Boolean, we only pick the rows that are labelled '1' and thus get a subset of the data according to the label. "
   ]
  },
  {
   "cell_type": "markdown",
   "id": "42a809f4",
   "metadata": {},
   "source": [
    "## DIY5: Using a template\n",
    " \n",
    "Modify the code to calculate the number of samples labelled 0 and check the number of rows of that subset.\n",
    "\n"
   ]
  },
  {
   "cell_type": "code",
   "execution_count": null,
   "id": "ab875dd0",
   "metadata": {},
   "outputs": [],
   "source": [
    "from numpy.random import randint\n",
    "\n",
    "no_rows = len(df)\n",
    "\n",
    "randomLabel = randint(2, size=no_rows)\n",
    "\n",
    "df['gender'] = randomLabel\n",
    "\n",
    "df_male = df['gender'] == 0\n",
    "\n",
    "no_males = len(df[df_male])\n",
    "\n",
    "print(no_males, 'samples are labelled \"male\".')"
   ]
  },
  {
   "cell_type": "markdown",
   "id": "85fc69ad",
   "metadata": {},
   "source": [
    "```{.output}\n",
    "10 samples are labelled \"male\".\n",
    "```\n",
    "## Visualisation of data\n",
    "\n",
    "It is easy to see from the numbers that the concentrations of sodium are much higher than that of calcium. However, to also compare the medians, percentiles and the spread of the data it is better to use visualisation. \n",
    "\n",
    "The simplest way of visualisation is to use Pandas functionality which offers direct ways of plotting. Here is an example where a boxplot is created for each column:\n",
    "\n"
   ]
  },
  {
   "cell_type": "code",
   "execution_count": null,
   "id": "4290feca",
   "metadata": {},
   "outputs": [],
   "source": [
    "import matplotlib.pyplot as plt\n",
    "df = read_csv(\"data/everleys_data.csv\") \n",
    "plt.boxplot(df)"
   ]
  },
  {
   "cell_type": "markdown",
   "id": "6150e53e",
   "metadata": {},
   "source": [
    "```{.output}\n",
    "{'whiskers': [<matplotlib.lines.Line2D object at 0x7f98a43dbfa0>, <matplotlib.lines.Line2D object at 0x7f98a4414280>, <matplotlib.lines.Line2D object at 0x7f98a4415270>, <matplotlib.lines.Line2D object at 0x7f98a4415510>], 'caps': [<matplotlib.lines.Line2D object at 0x7f98a4414520>, <matplotlib.lines.Line2D object at 0x7f98a44147c0>, <matplotlib.lines.Line2D object at 0x7f98a44157b0>, <matplotlib.lines.Line2D object at 0x7f98a4415a50>], 'boxes': [<matplotlib.lines.Line2D object at 0x7f98a43dbd00>, <matplotlib.lines.Line2D object at 0x7f98a4414fd0>], 'medians': [<matplotlib.lines.Line2D object at 0x7f98a4414a60>, <matplotlib.lines.Line2D object at 0x7f98a4415cf0>], 'fliers': [<matplotlib.lines.Line2D object at 0x7f98a4414d00>, <matplotlib.lines.Line2D object at 0x7f98a4415f90>], 'means': []}\n",
    "```"
   ]
  },
  {
   "cell_type": "code",
   "execution_count": null,
   "id": "2b40806c",
   "metadata": {},
   "outputs": [],
   "source": [
    "plt.show()"
   ]
  },
  {
   "cell_type": "markdown",
   "id": "6bb4d098",
   "metadata": {},
   "source": [
    "<img src=\"fig/01-introduction-rendered-unnamed-chunk-35-1.png\" width=\"672\" style=\"display: block; margin: auto;\" />\n",
    "\n",
    "By default, boxplots are shown for all columns if no further argument is given to the function (empty round parenthesis). As the calcium plot is rather squeezed we may wish to see it individually. This can be done by specifying the calcium column as an argument:\n",
    "    \n",
    "\n"
   ]
  },
  {
   "cell_type": "code",
   "execution_count": null,
   "id": "fde1a2f8",
   "metadata": {},
   "outputs": [],
   "source": [
    "\n",
    "# Boxplot of calcium results\n",
    "# df.boxplot(column='calcium');\n",
    "\n",
    "\n",
    "plt.boxplot(df['calcium'])"
   ]
  },
  {
   "cell_type": "markdown",
   "id": "83d3e1e8",
   "metadata": {},
   "source": [
    "```{.output}\n",
    "{'whiskers': [<matplotlib.lines.Line2D object at 0x7f98a4287700>, <matplotlib.lines.Line2D object at 0x7f98a42879a0>], 'caps': [<matplotlib.lines.Line2D object at 0x7f98a4287c40>, <matplotlib.lines.Line2D object at 0x7f98a4287ee0>], 'boxes': [<matplotlib.lines.Line2D object at 0x7f98a4287580>], 'medians': [<matplotlib.lines.Line2D object at 0x7f98a42cc1c0>], 'fliers': [<matplotlib.lines.Line2D object at 0x7f98a42cc460>], 'means': []}\n",
    "```"
   ]
  },
  {
   "cell_type": "code",
   "execution_count": null,
   "id": "5222d399",
   "metadata": {},
   "outputs": [],
   "source": [
    "plt.show()"
   ]
  },
  {
   "cell_type": "markdown",
   "id": "cff2d1d1",
   "metadata": {},
   "source": [
    "<img src=\"fig/01-introduction-rendered-unnamed-chunk-36-3.png\" width=\"672\" style=\"display: block; margin: auto;\" />\n",
    "\n",
    "### Plots using Matplotlib\n",
    "\n",
    "> [__Matplotlib__](https://matplotlib.org) is a comprehensive library for creating static, animated, and interactive visualizations in Python.\n",
    "\n",
    "The above is an easy way to create boxplots directly on the dataframe. It is based on the library Matplotlib and specifically uses the __pyplot library__. For simplicity, the code is put in a convenient Pandas function. \n",
    "\n",
    "However, we are going to use __Matplotlib__ extensively later on in the course, and we therefore now introduce the direct, generic way of using it.\n",
    "\n",
    "For this, we import the function `subplots` from the [pyplot library](https://matplotlib.org/stable/api/pyplot_summary.html):\n",
    "\n",
    "\n"
   ]
  },
  {
   "cell_type": "code",
   "execution_count": null,
   "id": "0cabc59f",
   "metadata": {},
   "outputs": [],
   "source": [
    "from matplotlib.pyplot import subplots"
   ]
  },
  {
   "cell_type": "markdown",
   "id": "c6ba767d",
   "metadata": {},
   "source": [
    "The way to use `subplots` is to first set up a figure environment (below it is called 'fig') and an empty coordinate system (below called 'ax'). The plot is then done using one of the many methods available in Matplotlib. We apply it to the coordinate system 'ax'. \n",
    "\n",
    "As an example, let us create a [boxplot](https://matplotlib.org/api/_as_gen/matplotlib.pyplot.boxplot.html#matplotlib.pyplot.boxplot|) of the calcium variable. As an argument of the function we need to specify the data. We can use the values of the 'calcium' concentrations from the column with that name:\n",
    "\n",
    "\n"
   ]
  },
  {
   "cell_type": "code",
   "execution_count": null,
   "id": "2b012897",
   "metadata": {},
   "outputs": [],
   "source": [
    "fig, ax = subplots()\n",
    "\n",
    "ax.boxplot(df['calcium'])"
   ]
  },
  {
   "cell_type": "markdown",
   "id": "a319923f",
   "metadata": {},
   "source": [
    "```{.output}\n",
    "{'whiskers': [<matplotlib.lines.Line2D object at 0x7f98a42cd5d0>, <matplotlib.lines.Line2D object at 0x7f98a42cd930>], 'caps': [<matplotlib.lines.Line2D object at 0x7f98a42cd9f0>, <matplotlib.lines.Line2D object at 0x7f98a42cd270>], 'boxes': [<matplotlib.lines.Line2D object at 0x7f98a42cc430>], 'medians': [<matplotlib.lines.Line2D object at 0x7f98a42cfb50>], 'fliers': [<matplotlib.lines.Line2D object at 0x7f98a42cf6d0>], 'means': []}\n",
    "```"
   ]
  },
  {
   "cell_type": "code",
   "execution_count": null,
   "id": "874ba5d1",
   "metadata": {},
   "outputs": [],
   "source": [
    "ax.set_title('Boxplot of Everley\\'s Calcium');\n"
   ]
  },
  {
   "cell_type": "markdown",
   "id": "5ca236b2",
   "metadata": {},
   "source": [
    "![png](fig/output_93_0.png)\n",
    "\n",
    "Note how following the actual plot we define the title of the plot by referring to the same coordinate system `ax`.\n",
    "\n",
    "The value of `subplots` becomes apparent when we try to create more than one plot in a single figure. \n",
    "\n",
    "Here is an example to create two boxplots next to each other. The keyword arguments to use is 'ncols' which is the number of figures per row. 'ncols=2' indicates that you want to have two plots next to each other. \n",
    "\n",
    "\n"
   ]
  },
  {
   "cell_type": "code",
   "execution_count": null,
   "id": "84fad2d0",
   "metadata": {},
   "outputs": [],
   "source": [
    "fig, ax = subplots(ncols=2)\n",
    "\n",
    "ax[0].boxplot(df['calcium'])"
   ]
  },
  {
   "cell_type": "markdown",
   "id": "220c9318",
   "metadata": {},
   "source": [
    "```{.output}\n",
    "{'whiskers': [<matplotlib.lines.Line2D object at 0x7f98a414d1b0>, <matplotlib.lines.Line2D object at 0x7f98a414d450>], 'caps': [<matplotlib.lines.Line2D object at 0x7f98a414d6f0>, <matplotlib.lines.Line2D object at 0x7f98a414d990>], 'boxes': [<matplotlib.lines.Line2D object at 0x7f98a414d030>], 'medians': [<matplotlib.lines.Line2D object at 0x7f98a414dc30>], 'fliers': [<matplotlib.lines.Line2D object at 0x7f98a414ded0>], 'means': []}\n",
    "```"
   ]
  },
  {
   "cell_type": "code",
   "execution_count": null,
   "id": "10f13a5b",
   "metadata": {},
   "outputs": [],
   "source": [
    "ax[0].set_title('Calcium')\n",
    "\n",
    "ax[1].boxplot(df['sodium'])"
   ]
  },
  {
   "cell_type": "markdown",
   "id": "1d0749a7",
   "metadata": {},
   "source": [
    "```{.output}\n",
    "{'whiskers': [<matplotlib.lines.Line2D object at 0x7f98a414e6b0>, <matplotlib.lines.Line2D object at 0x7f98a414e950>], 'caps': [<matplotlib.lines.Line2D object at 0x7f98a414ebf0>, <matplotlib.lines.Line2D object at 0x7f98a414ee90>], 'boxes': [<matplotlib.lines.Line2D object at 0x7f98a414e410>], 'medians': [<matplotlib.lines.Line2D object at 0x7f98a414f130>], 'fliers': [<matplotlib.lines.Line2D object at 0x7f98a414f3d0>], 'means': []}\n",
    "```"
   ]
  },
  {
   "cell_type": "code",
   "execution_count": null,
   "id": "6f86d033",
   "metadata": {
    "lines_to_next_cell": 0
   },
   "outputs": [],
   "source": [
    "ax[1].set_title('Sodium');"
   ]
  },
  {
   "cell_type": "markdown",
   "id": "9abf591d",
   "metadata": {},
   "source": []
  },
  {
   "cell_type": "markdown",
   "id": "b6390630",
   "metadata": {},
   "source": [
    "![png](fig/output_95_0.png)\n",
    "    "
   ]
  },
  {
   "cell_type": "markdown",
   "id": "4a8f7ed6",
   "metadata": {},
   "source": [
    "Note that you now have to refer to each of the subplots by indexing the coordinate system 'ax'. \n",
    "|\n",
    "This figure gives a good overview of the Everley's data."
   ]
  },
  {
   "cell_type": "markdown",
   "id": "76e1c986",
   "metadata": {},
   "source": [
    "If you prefer to have the boxplots of both columns in a single figure, that can also be done:\n",
    "\n"
   ]
  },
  {
   "cell_type": "code",
   "execution_count": null,
   "id": "724db797",
   "metadata": {},
   "outputs": [],
   "source": [
    "fig, ax = subplots(ncols=1, nrows=1)\n",
    "\n",
    "ax.boxplot([df['calcium'], df['sodium']], positions=[1, 2])"
   ]
  },
  {
   "cell_type": "markdown",
   "id": "b793c21a",
   "metadata": {},
   "source": [
    "```{.output}\n",
    "{'whiskers': [<matplotlib.lines.Line2D object at 0x7f98a41ad060>, <matplotlib.lines.Line2D object at 0x7f98a41ad540>, <matplotlib.lines.Line2D object at 0x7f98a41ae500>, <matplotlib.lines.Line2D object at 0x7f98a41ae7a0>], 'caps': [<matplotlib.lines.Line2D object at 0x7f98a41ad7e0>, <matplotlib.lines.Line2D object at 0x7f98a41ada80>, <matplotlib.lines.Line2D object at 0x7f98a41aea40>, <matplotlib.lines.Line2D object at 0x7f98a41aece0>], 'boxes': [<matplotlib.lines.Line2D object at 0x7f98a41ad270>, <matplotlib.lines.Line2D object at 0x7f98a41ae260>], 'medians': [<matplotlib.lines.Line2D object at 0x7f98a41add20>, <matplotlib.lines.Line2D object at 0x7f98a41aef80>], 'fliers': [<matplotlib.lines.Line2D object at 0x7f98a41adfc0>, <matplotlib.lines.Line2D object at 0x7f98a41af220>], 'means': []}\n",
    "```"
   ]
  },
  {
   "cell_type": "code",
   "execution_count": null,
   "id": "e5f363fb",
   "metadata": {},
   "outputs": [],
   "source": [
    "ax.set_title('Boxplot of Calcium (left) and Sodium (right)')"
   ]
  },
  {
   "cell_type": "markdown",
   "id": "3a3f6118",
   "metadata": {},
   "source": [
    "<img src=\"fig/01-introduction-rendered-unnamed-chunk-40-5.png\" width=\"672\" style=\"display: block; margin: auto;\" />"
   ]
  },
  {
   "cell_type": "markdown",
   "id": "cd2e0cc2",
   "metadata": {},
   "source": [
    "![png](fig/output_98_1.png)"
   ]
  },
  {
   "cell_type": "markdown",
   "id": "3925ef11",
   "metadata": {},
   "source": [
    "### DIY6: Boxplot from Loan data\n",
    "\n",
    "Plot the boxplots of the 'ApplicantIncome' and the 'CoapplicantIncome' in the Loan data using the above code.\n",
    "\n"
   ]
  },
  {
   "cell_type": "code",
   "execution_count": null,
   "id": "4b0dc98a",
   "metadata": {},
   "outputs": [],
   "source": [
    "fig, ax = subplots(ncols=1, nrows=1)\n",
    "\n",
    "ax.boxplot([df_loan['ApplicantIncome'], df_loan['CoapplicantIncome']], positions=[1, 2])"
   ]
  },
  {
   "cell_type": "markdown",
   "id": "dfa320b6",
   "metadata": {},
   "source": [
    "```{.output}\n",
    "{'whiskers': [<matplotlib.lines.Line2D object at 0x7f98a421df30>, <matplotlib.lines.Line2D object at 0x7f98a421e1d0>, <matplotlib.lines.Line2D object at 0x7f98a421f190>, <matplotlib.lines.Line2D object at 0x7f98a421f430>], 'caps': [<matplotlib.lines.Line2D object at 0x7f98a421e470>, <matplotlib.lines.Line2D object at 0x7f98a421e710>, <matplotlib.lines.Line2D object at 0x7f98a421f6d0>, <matplotlib.lines.Line2D object at 0x7f98a421f970>], 'boxes': [<matplotlib.lines.Line2D object at 0x7f98a421d900>, <matplotlib.lines.Line2D object at 0x7f98a421eef0>], 'medians': [<matplotlib.lines.Line2D object at 0x7f98a421e9b0>, <matplotlib.lines.Line2D object at 0x7f98a421fc10>], 'fliers': [<matplotlib.lines.Line2D object at 0x7f98a421ec50>, <matplotlib.lines.Line2D object at 0x7f98a421feb0>], 'means': []}\n",
    "```"
   ]
  },
  {
   "cell_type": "code",
   "execution_count": null,
   "id": "ad302771",
   "metadata": {
    "lines_to_next_cell": 0
   },
   "outputs": [],
   "source": [
    "ax.set_title('Applicant Income (left) & Co-Applicant Income (right)');"
   ]
  },
  {
   "cell_type": "markdown",
   "id": "7ec5d952",
   "metadata": {},
   "source": []
  },
  {
   "cell_type": "markdown",
   "id": "a6480de7",
   "metadata": {},
   "source": [
    "![Applicant Income (left) & Co-Applicant Income (right)](fig/output_139_0.png)\n"
   ]
  },
  {
   "cell_type": "markdown",
   "id": "65e370e2",
   "metadata": {},
   "source": [
    "### Histogram\n",
    "\n",
    "Another good overview is the histogram: Containers or 'bins' are created over the range of values found within a column and the count of the values for each bin is plotted on the vertical axis.\n",
    "\n",
    "\n"
   ]
  },
  {
   "cell_type": "code",
   "execution_count": null,
   "id": "ee1a7288",
   "metadata": {},
   "outputs": [],
   "source": [
    "fig, ax = subplots(ncols=2, nrows=1)\n",
    "\n",
    "ax[0].hist(df['calcium'])"
   ]
  },
  {
   "cell_type": "markdown",
   "id": "24296a7a",
   "metadata": {},
   "source": [
    "```{.output}\n",
    "(array([1., 2., 1., 1., 3., 5., 2., 1., 0., 2.]), array([0.71581063, 1.20946859, 1.70312654, 2.1967845 , 2.69044246,\n",
    "       3.18410042, 3.67775837, 4.17141633, 4.66507429, 5.15873224,\n",
    "       5.6523902 ]), <BarContainer object of 10 artists>)\n",
    "```"
   ]
  },
  {
   "cell_type": "code",
   "execution_count": null,
   "id": "46052b5c",
   "metadata": {},
   "outputs": [],
   "source": [
    "ax[0].set(xlabel='Calcium', ylabel='Count');\n",
    "\n",
    "ax[1].hist(df['sodium'])"
   ]
  },
  {
   "cell_type": "markdown",
   "id": "78166f8d",
   "metadata": {},
   "source": [
    "```{.output}\n",
    "(array([3., 0., 2., 1., 3., 3., 1., 3., 0., 2.]), array([ 97.931489 , 101.5435791, 105.1556692, 108.7677593, 112.3798494,\n",
    "       115.9919395, 119.6040296, 123.2161197, 126.8282098, 130.4402999,\n",
    "       134.05239  ]), <BarContainer object of 10 artists>)\n",
    "```"
   ]
  },
  {
   "cell_type": "code",
   "execution_count": null,
   "id": "c589f2a8",
   "metadata": {
    "lines_to_next_cell": 2
   },
   "outputs": [],
   "source": [
    "ax[1].set(xlabel='Sodium', ylabel='Count');\n",
    "\n",
    "fig.suptitle('Histograms of Everley concentrations', fontsize=15);"
   ]
  },
  {
   "cell_type": "markdown",
   "id": "04bfe3c3",
   "metadata": {},
   "source": [
    "![png](fig/output_102_0.png)\n",
    "    "
   ]
  },
  {
   "cell_type": "markdown",
   "id": "6572a08a",
   "metadata": {},
   "source": [
    "This also shows how to add labels to the axes and a title to the overall figure.\n",
    "\n",
    "This uses the default value for the generation of the bins. It is set to 10 bins over the range of which values are found. The number of bins in the histogram can be changed using the keyword argument 'bins':\n",
    "\n"
   ]
  },
  {
   "cell_type": "code",
   "execution_count": null,
   "id": "fe2164fa",
   "metadata": {},
   "outputs": [],
   "source": [
    "fig, ax = subplots(ncols=2, nrows=1)\n",
    "\n",
    "ax[0].hist(df['calcium'], bins=5)"
   ]
  },
  {
   "cell_type": "markdown",
   "id": "95aa8714",
   "metadata": {},
   "source": [
    "```{.output}\n",
    "(array([3., 2., 8., 3., 2.]), array([0.71581063, 1.70312654, 2.69044246, 3.67775837, 4.66507429,\n",
    "       5.6523902 ]), <BarContainer object of 5 artists>)\n",
    "```"
   ]
  },
  {
   "cell_type": "code",
   "execution_count": null,
   "id": "16494516",
   "metadata": {},
   "outputs": [],
   "source": [
    "ax[0].set(xlabel='Calcium, 5 bins', ylabel='Count');\n",
    "\n",
    "ax[1].hist(df['calcium'], bins=15)"
   ]
  },
  {
   "cell_type": "markdown",
   "id": "a85bd4f6",
   "metadata": {},
   "source": [
    "```{.output}\n",
    "(array([1., 2., 0., 1., 0., 1., 3., 1., 4., 2., 1., 0., 0., 0., 2.]), array([0.71581063, 1.04491593, 1.37402124, 1.70312654, 2.03223185,\n",
    "       2.36133715, 2.69044246, 3.01954776, 3.34865307, 3.67775837,\n",
    "       4.00686368, 4.33596898, 4.66507429, 4.99417959, 5.3232849 ,\n",
    "       5.6523902 ]), <BarContainer object of 15 artists>)\n",
    "```"
   ]
  },
  {
   "cell_type": "code",
   "execution_count": null,
   "id": "bc419579",
   "metadata": {
    "lines_to_next_cell": 0
   },
   "outputs": [],
   "source": [
    "ax[1].set(xlabel='Calcium, 15 bins', ylabel='Count');\n",
    "fig.suptitle('Histograms with Different Binnings', fontsize=16);"
   ]
  },
  {
   "cell_type": "markdown",
   "id": "6ab4dac5",
   "metadata": {},
   "source": []
  },
  {
   "cell_type": "markdown",
   "id": "7c8e33e1",
   "metadata": {},
   "source": [
    "![png](fig/output_104_0.png)\n",
    "    "
   ]
  },
  {
   "cell_type": "markdown",
   "id": "4c2499e2",
   "metadata": {},
   "source": [
    "Note how the y-label of the right figure is not placed well. To correct for the placement of the labels and the title, you can use \n",
    "`tight_layout` on the figure:\n",
    "\n",
    "\n"
   ]
  },
  {
   "cell_type": "code",
   "execution_count": null,
   "id": "79cbd772",
   "metadata": {},
   "outputs": [],
   "source": [
    "fig, ax = subplots(ncols=2, nrows=1)\n",
    "\n",
    "ax[0].hist(df['calcium'], bins=5)"
   ]
  },
  {
   "cell_type": "markdown",
   "id": "8d402b44",
   "metadata": {},
   "source": [
    "```{.output}\n",
    "(array([3., 2., 8., 3., 2.]), array([0.71581063, 1.70312654, 2.69044246, 3.67775837, 4.66507429,\n",
    "       5.6523902 ]), <BarContainer object of 5 artists>)\n",
    "```"
   ]
  },
  {
   "cell_type": "code",
   "execution_count": null,
   "id": "01d94a17",
   "metadata": {},
   "outputs": [],
   "source": [
    "ax[0].set(xlabel='Calcium, 5 bins', ylabel='Count');\n",
    "\n",
    "ax[1].hist(df['calcium'], bins=15)"
   ]
  },
  {
   "cell_type": "markdown",
   "id": "1ff1e7ea",
   "metadata": {},
   "source": [
    "```{.output}\n",
    "(array([1., 2., 0., 1., 0., 1., 3., 1., 4., 2., 1., 0., 0., 0., 2.]), array([0.71581063, 1.04491593, 1.37402124, 1.70312654, 2.03223185,\n",
    "       2.36133715, 2.69044246, 3.01954776, 3.34865307, 3.67775837,\n",
    "       4.00686368, 4.33596898, 4.66507429, 4.99417959, 5.3232849 ,\n",
    "       5.6523902 ]), <BarContainer object of 15 artists>)\n",
    "```"
   ]
  },
  {
   "cell_type": "code",
   "execution_count": null,
   "id": "8c89715a",
   "metadata": {
    "lines_to_next_cell": 0
   },
   "outputs": [],
   "source": [
    "ax[1].set(xlabel='Calcium, 15 bins', ylabel='Count');\n",
    "fig.suptitle('Histograms with Different Binnings', fontsize=16);\n",
    "fig.tight_layout()"
   ]
  },
  {
   "cell_type": "markdown",
   "id": "c42b195b",
   "metadata": {},
   "source": []
  },
  {
   "cell_type": "markdown",
   "id": "80970890",
   "metadata": {},
   "source": [
    "![png](fig/output_106_0.png)"
   ]
  },
  {
   "cell_type": "markdown",
   "id": "4cb5f7f8",
   "metadata": {},
   "source": [
    "## DIY7: Create the histogram of a column\n",
    "\n",
    "Take the loan data and display the histogram of the loan amount that people asked for. (Loan amounts are divided by 1000, i.e. in k£ on the horizontal axis).  Use e.g. 20 bins. \n",
    "\n",
    "\n"
   ]
  },
  {
   "cell_type": "code",
   "execution_count": null,
   "id": "9556765e",
   "metadata": {},
   "outputs": [],
   "source": [
    "# Histogram of loan amounts in k£\n",
    "\n",
    "fig, ax = subplots()\n",
    "\n",
    "ax.hist(df_loan['LoanAmount'], bins=20)"
   ]
  },
  {
   "cell_type": "markdown",
   "id": "d1e45fdc",
   "metadata": {},
   "source": [
    "```{.output}\n",
    "(array([12., 34., 63., 97., 67., 33., 28.,  9.,  6.,  2.,  5.,  1.,  1.,\n",
    "        1.,  1.,  0.,  1.,  0.,  0.,  1.]), array([ 28. ,  54.1,  80.2, 106.3, 132.4, 158.5, 184.6, 210.7, 236.8,\n",
    "       262.9, 289. , 315.1, 341.2, 367.3, 393.4, 419.5, 445.6, 471.7,\n",
    "       497.8, 523.9, 550. ]), <BarContainer object of 20 artists>)\n",
    "```"
   ]
  },
  {
   "cell_type": "code",
   "execution_count": null,
   "id": "9183ee5a",
   "metadata": {
    "lines_to_next_cell": 0
   },
   "outputs": [],
   "source": [
    "ax.set(xlabel='Loan amount', ylabel='Count');\n",
    "\n",
    "ax.set_title('Histograms of Loan Amounts', fontsize=16);"
   ]
  },
  {
   "cell_type": "markdown",
   "id": "dfdf5aba",
   "metadata": {},
   "source": []
  },
  {
   "cell_type": "markdown",
   "id": "2b1d3cfa",
   "metadata": {},
   "source": [
    "![Histograms of Loan Amounts](fig/output_142_0.png)\n",
    "\n",
    "##  Handling the Diabetes Data Set\n",
    "\n",
    "We now return to the data set that started our enquiry into the handling of data in a dataframe. \n",
    "\n",
    "We will now:\n",
    "\n",
    "- Import the diabetes data from 'sklearn'\n",
    "- Check the shape of the dataframe and search for NANs\n",
    "- Get a summary plot of one of its statistical quantities (e.g. mean) for all columns\n",
    "\n",
    "First we import the data set and check its `head`. Wait until the numbers show below the code, it might take a while.\n",
    "\n"
   ]
  },
  {
   "cell_type": "code",
   "execution_count": null,
   "id": "43489917",
   "metadata": {},
   "outputs": [],
   "source": [
    "from sklearn import datasets\n",
    "\n",
    "diabetes = datasets.load_diabetes()\n",
    "\n",
    "X = diabetes.data\n",
    "\n",
    "from pandas import DataFrame\n",
    "\n",
    "df_diabetes = DataFrame(data=X)\n",
    "\n",
    "df_diabetes.head()"
   ]
  },
  {
   "cell_type": "markdown",
   "id": "4aa5270b",
   "metadata": {},
   "source": [
    "```{.output}\n",
    "          0         1         2  ...         7         8         9\n",
    "0  0.038076  0.050680  0.061696  ... -0.002592  0.019907 -0.017646\n",
    "1 -0.001882 -0.044642 -0.051474  ... -0.039493 -0.068332 -0.092204\n",
    "2  0.085299  0.050680  0.044451  ... -0.002592  0.002861 -0.025930\n",
    "3 -0.089063 -0.044642 -0.011595  ...  0.034309  0.022688 -0.009362\n",
    "4  0.005383 -0.044642 -0.036385  ... -0.002592 -0.031988 -0.046641\n",
    "\n",
    "[5 rows x 10 columns]\n",
    "```"
   ]
  },
  {
   "cell_type": "markdown",
   "id": "d7b6ae42",
   "metadata": {},
   "source": [
    "If you don't see all columns, use the cursor to scroll to the right.\n",
    "\n",
    "Now let's check the number of columns and rows.\n",
    "\n"
   ]
  },
  {
   "cell_type": "code",
   "execution_count": null,
   "id": "914cc6fd",
   "metadata": {},
   "outputs": [],
   "source": [
    "no_rows = len(df_diabetes)\n",
    "no_cols = len(df_diabetes.columns)\n",
    "\n",
    "print('Rows:', no_rows, 'Columns:', no_cols)"
   ]
  },
  {
   "cell_type": "markdown",
   "id": "ecf8f09d",
   "metadata": {},
   "source": [
    "```{.output}\n",
    "Rows: 442 Columns: 10\n",
    "```\n",
    "\n",
    "There are 442 rows organised in 10 columns."
   ]
  },
  {
   "cell_type": "markdown",
   "id": "e45f3c2b",
   "metadata": {},
   "source": [
    "To get an overview, let us extract the mean of each column using 'describe' and plot all means as a bar chart. The Matplotlib function to plot a bar chart is `bar`:\n",
    "\n",
    "\n"
   ]
  },
  {
   "cell_type": "code",
   "execution_count": null,
   "id": "48a8c4a7",
   "metadata": {},
   "outputs": [],
   "source": [
    "conc_means = list()\n",
    "\n",
    "for col in df_diabetes:\n",
    "    conc_means.append(df_diabetes[col].describe()['mean'])\n",
    "\n",
    "print('The columns are: ', list(df_diabetes.columns))"
   ]
  },
  {
   "cell_type": "markdown",
   "id": "1fa518e1",
   "metadata": {},
   "source": [
    "```{.output}\n",
    "The columns are:  [0, 1, 2, 3, 4, 5, 6, 7, 8, 9]\n",
    "```"
   ]
  },
  {
   "cell_type": "code",
   "execution_count": null,
   "id": "28e9697b",
   "metadata": {},
   "outputs": [],
   "source": [
    "print('The medians are: ', conc_means, 2)"
   ]
  },
  {
   "cell_type": "markdown",
   "id": "50a37d3b",
   "metadata": {},
   "source": [
    "```{.output}\n",
    "The medians are:  [-2.511816797794472e-19, 1.2307902309192911e-17, -2.2455642172282577e-16, -4.7975700837874414e-17, -1.3814992387869595e-17, 3.918434204559376e-17, -5.7771786349272854e-18, -9.042540472060099e-18, 9.293722151839546e-17, 1.1303175590075123e-17] 2\n",
    "```"
   ]
  },
  {
   "cell_type": "code",
   "execution_count": null,
   "id": "125075ce",
   "metadata": {
    "lines_to_next_cell": 2
   },
   "outputs": [],
   "source": [
    "fig, ax = subplots()\n",
    "\n",
    "bins = range(10)\n",
    "\n",
    "ax.bar(bins, conc_means);"
   ]
  },
  {
   "cell_type": "markdown",
   "id": "d5cb1ef1",
   "metadata": {},
   "source": [
    "![png](fig/output_116_1.png)\n",
    "    "
   ]
  },
  {
   "cell_type": "markdown",
   "id": "769dd456",
   "metadata": {},
   "source": [
    "The bars in this plot go up and down. Note, however, that the vertical axis has values ranging from -10^(-15) to +10^(-15). This means that for all practical purposes all means are zero. This is not a coincidence. The original values have been normalised to zero mean for the purpose of applying some machine learning algorithm to them. \n",
    "\n",
    "In this example, we see how important it is to check the data before working with them. \n"
   ]
  },
  {
   "cell_type": "markdown",
   "id": "d739d2c8",
   "metadata": {},
   "source": [
    "## Assignment: The cervical cancer data set\n",
    "\n",
    "Download the cervical cancer data set provided, import it using `read_csv`.\n",
    "\n",
    "- How many rows and columns are there?\n",
    "- How many columns contain floating point numbers (float64)?\n",
    "- How many of the subjects are smokers?\n",
    "- Calculate the percentage of smokers\n",
    "- Plot the age distribution (with e.g. 50 bins)\n",
    "- Get the mean and standard distribution of age of first sexual intercourse\n",
    "\n",
    "\n"
   ]
  },
  {
   "cell_type": "markdown",
   "id": "d0715ed4",
   "metadata": {},
   "source": [
    "- learned importing data set as dataframe\n",
    "- learned inspecting data frame and accessing data\n",
    "- Producing an overview of data features\n",
    "- Creating data plots using matplotlib"
   ]
  },
  {
   "cell_type": "markdown",
   "id": "5fc6d132",
   "metadata": {},
   "source": [
    "## Download the pdf\n",
    "\n",
    "This section's pdf can be accessed at:[Download pdf](01-introduction.md.pdf)\n",
    "\n",
    "## Download jupyter notebook\n",
    "\n",
    "This section's material in jupyter notebook can be accessed at:[Download notebook (ipynb)](01-introduction.ipynb)"
   ]
  },
  {
   "cell_type": "markdown",
   "id": "854abe57",
   "metadata": {},
   "source": [
    "[r-markdown]: https://rmarkdown.rstudio.com/"
   ]
  }
 ],
 "metadata": {
  "jupytext": {
   "cell_metadata_filter": "-all",
   "main_language": "python",
   "notebook_metadata_filter": "-all"
  }
 },
 "nbformat": 4,
 "nbformat_minor": 5
}
