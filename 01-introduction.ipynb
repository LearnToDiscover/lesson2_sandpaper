{
 "cells": [
  {
   "cell_type": "raw",
   "id": "d4822551",
   "metadata": {},
   "source": [
    "---\n",
    "title: \"Data Frames\"\n",
    "teaching: 6\n",
    "exercises: 2\n",
    "output: pdf_document\n",
    "---"
   ]
  },
  {
   "cell_type": "markdown",
   "id": "63b11983",
   "metadata": {},
   "source": [
    "\n",
    "- How to use dataframes in Python?\n"
   ]
  },
  {
   "cell_type": "markdown",
   "id": "81ce1c60",
   "metadata": {},
   "source": [
    "- Import data set as dataframe\n",
    "- Inspect data frame and access data\n",
    "- Produce an overview of data features\n",
    "- Create data plots using matplotlib\n",
    "\n",
    "## Video Tutorials\n",
    "\n",
    "### Pandas Dataframes - Import and Data Handling\n",
    "\n",
    "<p align = \"center\">\n",
    "<iframe width=\"400\" height=\"225\" src=\"https://www.youtube.com/embed/wPiNrk6zpHc\" title=\"YouTube video player\" frameborder=\"0\" allow=\"accelerometer; autoplay; clipboard-write; encrypted-media; gyroscope; picture-in-picture\" allowfullscreen></iframe>\n",
    "</p>\n",
    "\n",
    "### Pandas Dataframes - Visualisation \n",
    "\n",
    "<p align = \"center\">\n",
    "<iframe width=\"400\" height=\"225\" src=\"https://www.youtube.com/embed/QviydJKaSro\" title=\"YouTube video player\" frameborder=\"0\" allow=\"accelerometer; autoplay; clipboard-write; encrypted-media; gyroscope; picture-in-picture\" allowfullscreen></iframe>\n",
    "</p>\n",
    "\n",
    "## Introduction\n",
    "\n",
    "This is our first lesson on learning and understanding dataframes in Python.\n",
    "\n"
   ]
  },
  {
   "cell_type": "markdown",
   "id": "5ffec223",
   "metadata": {},
   "source": [
    "The diabetes data set is one of the challenging task.\n"
   ]
  },
  {
   "cell_type": "markdown",
   "id": "3b791895",
   "metadata": {},
   "source": [
    "## Challenge: The diabetes data set\n",
    "\n",
    "Here is a screenshot of the so-called diabetes data set. It is taken from \n",
    "[this webpage](https://www4.stat.ncsu.edu/~boos/var.select/diabetes.tab.txt) and it is one of the [example data sets](https://scikit-learn.org/stable/modules/generated/sklearn.datasets.load_diabetes.html) used to illustrate machine learning functionality in scikit-learn (Part III and Part IV of the course). \n",
    "\n",
    "![](fig/diabetes_data_screenshot.png \"Screenshot of Diabetes Data\")"
   ]
  },
  {
   "cell_type": "markdown",
   "id": "a0ece4f7",
   "metadata": {},
   "source": [
    "This figure captures only the top part of the data. On the webpage you need to scroll down considerably to view the whole content. Thus, to get an __overview__ of the dataset is the first main task in Data Science. "
   ]
  },
  {
   "cell_type": "markdown",
   "id": "80e68932",
   "metadata": {},
   "source": [
    "## The lesson\n",
    "\n",
    "- introduces code to read and inspect the data\n",
    "- works with a specific data frame and extracts some techniques to get an overview\n",
    "- discusses the concept 'distribution' as a way of summarising data in a single figure\n",
    "\n"
   ]
  },
  {
   "cell_type": "markdown",
   "id": "108c99b0",
   "metadata": {},
   "source": [
    "### To get to know a dataset you need to\n",
    "\n",
    "- access the data\n",
    "- check the content\n",
    "- produce a summary of basic properties"
   ]
  },
  {
   "cell_type": "markdown",
   "id": "ee0ed32f",
   "metadata": {},
   "source": [
    "In this lesson we will only look at univariate features where each data column is studied independently of the others. Further properties and bivariate features will be the topic of the next lesson. \n"
   ]
  },
  {
   "cell_type": "markdown",
   "id": "c62eff9f",
   "metadata": {},
   "source": [
    "## Work Through Example"
   ]
  },
  {
   "cell_type": "markdown",
   "id": "98567904",
   "metadata": {},
   "source": [
    "## Reading data into a Pandas DataFrame\n",
    "\n",
    "The small practice data file for this section is called 'everleys_data.csv' and can be downloaded using the link given above in \"Materials for this Lesson\". To start, please create a subfolder called 'data' in the current directory and put the data file in it. It can now be accessed using the relative path `data/everleys_data.csv` or `data\\everleys_data.csv`, respectively.\n",
    "\n",
    "The file `everleys_data.csv` contains blood concentrations of calcium and sodium ions from 17 patients with Everley's syndrome. The data are taken from a [BMJ statistics tutorial](https://www.bmj.com/about-bmj/resources-readers/publications/statistics-square-one/7-t-tests). The data are stored as comma-separated values (csv), two values for each patient.\n",
    "\n",
    "To get to know a dataset, we will use the Pandas package and the Matplotlib plotting. The Pandas package for data science is included in the Anaconda distribution of Python. Check this [link for installation instructions](https://pandas.pydata.org/getting_started.html) to get started. \n",
    "\n",
    "If you are not using the Anaconda distribution, pease refer to [these guidelines](https://pandas.pydata.org/docs/getting_started/install.html). \n",
    "\n",
    "To use the functions contained in Pandas they need to be imported. Our dataset is in '.csv' format, and we therefore need to read it from a csv file. For this, we import the function `read_csv`. This will create a _Pandas dataframe_.\n",
    "\n",
    "\n",
    "\n",
    "\n",
    "\n"
   ]
  },
  {
   "cell_type": "code",
   "execution_count": null,
   "id": "1d38b996",
   "metadata": {},
   "outputs": [],
   "source": [
    "import sys\n",
    "print(sys.version)"
   ]
  },
  {
   "cell_type": "markdown",
   "id": "325954a4",
   "metadata": {},
   "source": [
    "```{.output}\n",
    "3.10.7 (main, Sep  6 2022, 15:19:58) [GCC 9.4.0]\n",
    "```\n",
    "\n"
   ]
  },
  {
   "cell_type": "code",
   "execution_count": null,
   "id": "e2b631fe",
   "metadata": {
    "lines_to_next_cell": 0
   },
   "outputs": [],
   "source": [
    "from pandas import read_csv"
   ]
  },
  {
   "cell_type": "markdown",
   "id": "06f69ebb",
   "metadata": {},
   "source": []
  },
  {
   "cell_type": "markdown",
   "id": "786a1999",
   "metadata": {},
   "source": [
    "Executing this code does not lead to any output on the screen. However, the function is now ready to be used. To use it, we type its name and provide the required arguments. The following code should import the Everley's data into your JupyterLab notebook (or other Python environment):\n"
   ]
  },
  {
   "cell_type": "code",
   "execution_count": null,
   "id": "da56afe5",
   "metadata": {
    "lines_to_next_cell": 2
   },
   "outputs": [],
   "source": [
    "# for Mac OSX and Linux\n",
    "# (please go to the next cell if using Windows)\n",
    "\n",
    "df = read_csv(\"data/everleys_data.csv\") "
   ]
  },
  {
   "cell_type": "code",
   "execution_count": null,
   "id": "119e47e3",
   "metadata": {},
   "outputs": [],
   "source": [
    "# please uncomment for Windows\n",
    "# (please go to previous cell if using Mac OSX or Linux)\n",
    "\n",
    "# df = read_csv(\"data\\everleys_data.csv\") \n"
   ]
  },
  {
   "cell_type": "markdown",
   "id": "1bf7e37d",
   "metadata": {},
   "source": [
    "This code uses the `read_csv` function from Pandas to read data from a data file, in this case a file with extension '.csv'. Note that the location of the data file is specified within quotes by the relative path to the subfolder 'data' followed by the file name. Use the JupyterLab file browser to check that subfolder exists and has the file in it.\n",
    "\n",
    "![](fig/subfolder_data.png \"Screenshot of subfolder 'data' \")"
   ]
  },
  {
   "cell_type": "markdown",
   "id": "8df5b679",
   "metadata": {},
   "source": [
    "After execution of the code, the data are contained in a variable called `df`. This is a structure referred to as a Pandas _DataFrame_. \n",
    "\n",
    "> A [__Pandas dataframe__](https://pandas.pydata.org/pandas-docs/stable/user_guide/dsintro.html#dataframe) is a 2-dimensional labeled data structure with columns of potentially different types. You can think of it as a spreadsheet. "
   ]
  },
  {
   "cell_type": "markdown",
   "id": "6a9cff03",
   "metadata": {},
   "source": [
    "To see the contents of `df`, simply use:\n",
    "\n"
   ]
  },
  {
   "cell_type": "code",
   "execution_count": null,
   "id": "dc9aeca8",
   "metadata": {},
   "outputs": [],
   "source": [
    "df"
   ]
  },
  {
   "cell_type": "markdown",
   "id": "cedc2494",
   "metadata": {},
   "source": [
    "```{.output}\n",
    "     calcium      sodium\n",
    "0   3.455582  112.690980\n",
    "1   3.669026  125.663330\n",
    "2   2.789910  105.821810\n",
    "3   2.939900   98.172772\n",
    "4   5.426060   97.931489\n",
    "5   0.715811  120.858330\n",
    "6   5.652390  112.871500\n",
    "7   3.571320  112.647360\n",
    "8   4.300067  132.031720\n",
    "9   1.369419  118.499010\n",
    "10  2.550962  117.373730\n",
    "11  2.894129  134.052390\n",
    "12  3.664987  105.346410\n",
    "13  1.362779  123.359490\n",
    "14  3.718798  125.021060\n",
    "15  1.865868  112.075420\n",
    "16  3.272809  117.588040\n",
    "17  3.917591  101.009870\n",
    "```"
   ]
  },
  {
   "cell_type": "markdown",
   "id": "c0b28bee",
   "metadata": {},
   "source": [
    "(Compare with the result of `print(df)` which displays the contents in a different format.) \n",
    "\n",
    "The output shows in the first column an index, integers from 0 to 17; and the calcium and sodium concentrations in columns 2 and 3, respectively. The default indexing starts from zero (Python is a 'zero-based' programming language).\n",
    "\n",
    "In a dataframe, the first column is referred to as _Indices_, the first row is referred to as _Labels_. Note that the row with the labels is excluded from the row count. Similarly, the row with the indices is excluded from the column count. "
   ]
  },
  {
   "cell_type": "markdown",
   "id": "b2e00861",
   "metadata": {},
   "source": [
    "For large data sets, the function `head` is a convenient way to get a feel of the dataset.\n",
    "\n"
   ]
  },
  {
   "cell_type": "code",
   "execution_count": null,
   "id": "f28b9bb2",
   "metadata": {},
   "outputs": [],
   "source": [
    "df.head()"
   ]
  },
  {
   "cell_type": "markdown",
   "id": "43edc53f",
   "metadata": {},
   "source": [
    "```{.output}\n",
    "    calcium      sodium\n",
    "0  3.455582  112.690980\n",
    "1  3.669026  125.663330\n",
    "2  2.789910  105.821810\n",
    "3  2.939900   98.172772\n",
    "4  5.426060   97.931489\n",
    "```"
   ]
  },
  {
   "cell_type": "markdown",
   "id": "6b9c900d",
   "metadata": {},
   "source": [
    "Without any input argument, this displays the first five data lines of the dataframe. You can specify alter the number of rows displayed by including a single integer as argument, e.g. `head(10)`.\n",
    "\n",
    "If you feel there are too many decimal places in the default view, you can restrict their number by using the `round` function:\n",
    "\n"
   ]
  },
  {
   "cell_type": "code",
   "execution_count": null,
   "id": "321a2b4e",
   "metadata": {},
   "outputs": [],
   "source": [
    "df.head().round(2)"
   ]
  },
  {
   "cell_type": "markdown",
   "id": "2225e27d",
   "metadata": {},
   "source": [
    "```{.output}\n",
    "   calcium  sodium\n",
    "0     3.46  112.69\n",
    "1     3.67  125.66\n",
    "2     2.79  105.82\n",
    "3     2.94   98.17\n",
    "4     5.43   97.93\n",
    "```"
   ]
  },
  {
   "cell_type": "markdown",
   "id": "59865026",
   "metadata": {},
   "source": [
    "While we can see how many rows there are in a dataframe when we display the whole data frame and look at the last index, there is a convenient way to obtain the number directly:\n",
    "\n"
   ]
  },
  {
   "cell_type": "code",
   "execution_count": null,
   "id": "f5e31011",
   "metadata": {},
   "outputs": [],
   "source": [
    "no_rows = len(df)\n",
    "\n",
    "print('Data frame has', no_rows, 'rows')"
   ]
  },
  {
   "cell_type": "markdown",
   "id": "ff837681",
   "metadata": {},
   "source": [
    "```{.output}\n",
    "Data frame has 18 rows\n",
    "```\n",
    "\n",
    "You could see above, that the columns of the dataframe have labels. To see all labels:\n",
    "\n"
   ]
  },
  {
   "cell_type": "code",
   "execution_count": null,
   "id": "ed1b32ce",
   "metadata": {},
   "outputs": [],
   "source": [
    "column_labels = df.columns\n",
    "\n",
    "print(column_labels)"
   ]
  },
  {
   "cell_type": "markdown",
   "id": "638895fc",
   "metadata": {},
   "source": [
    "```{.output}\n",
    "Index(['calcium', 'sodium'], dtype='object')\n",
    "```"
   ]
  },
  {
   "cell_type": "markdown",
   "id": "08805860",
   "metadata": {},
   "source": [
    "Now we can count the labels to obtain the number of columns:\n",
    "\n"
   ]
  },
  {
   "cell_type": "code",
   "execution_count": null,
   "id": "e53f2806",
   "metadata": {},
   "outputs": [],
   "source": [
    "no_columns = len(column_labels)\n",
    "\n",
    "print('Data frame has', no_columns, 'columns')"
   ]
  },
  {
   "cell_type": "markdown",
   "id": "cb71e6cc",
   "metadata": {},
   "source": [
    "```{.output}\n",
    "Data frame has 2 columns\n",
    "```"
   ]
  },
  {
   "cell_type": "markdown",
   "id": "01f93a6a",
   "metadata": {},
   "source": [
    "And if you want to have both the number of the rows and the columns together, use `shape`. Shape returns a tuple of two numbers, first the number of rows, then the number of columns.\n",
    "\n"
   ]
  },
  {
   "cell_type": "code",
   "execution_count": null,
   "id": "78a8dc03",
   "metadata": {},
   "outputs": [],
   "source": [
    "df_shape = df.shape\n",
    "\n",
    "print('Data frame has', df_shape[0], 'rows and',df_shape[1],  'columns')"
   ]
  },
  {
   "cell_type": "markdown",
   "id": "7eb9b33c",
   "metadata": {},
   "source": [
    "```{.output}\n",
    "Data frame has 18 rows and 2 columns\n",
    "```"
   ]
  },
  {
   "cell_type": "markdown",
   "id": "0434a501",
   "metadata": {},
   "source": [
    "Notice that `shape` (like `columns`) is not followed by round parenthesis. It is not a function that can take arguments. Technically, `shape` is a 'property' of the dataframe."
   ]
  },
  {
   "cell_type": "markdown",
   "id": "00fea141",
   "metadata": {},
   "source": [
    "To find out what data type is contained in each of the columns, us `dtypes`, another 'property':\n",
    "\n"
   ]
  },
  {
   "cell_type": "code",
   "execution_count": null,
   "id": "089d1160",
   "metadata": {},
   "outputs": [],
   "source": [
    "df.dtypes"
   ]
  },
  {
   "cell_type": "markdown",
   "id": "48c7672d",
   "metadata": {},
   "source": [
    "```{.output}\n",
    "calcium    float64\n",
    "sodium     float64\n",
    "dtype: object\n",
    "```\n",
    "\n",
    "In this case, both columns contain floating point (decimal) numbers.\n"
   ]
  },
  {
   "cell_type": "markdown",
   "id": "f03669b1",
   "metadata": {},
   "source": [
    "## DIY1: Read data into a dataframe\n",
    "   \n",
    "Download the data file 'loan_data.csv' using the link given above in \"Materials for this Lesson\". It contains data that can be used for the assessment of loan applications. Read the data into a DataFrame. It is best to assign it a name other than 'df' (to avoid overwriting the Evereley data set). \n",
    "\n",
    "Display the first ten rows of the Loan data set to see its contents. It is taken from a [tutorial on Data Handling in Python](https://www.analyticsvidhya.com/blog/2016/01/complete-tutorial-learn-data-science-python-scratch-2/) which you might find useful for further practice. "
   ]
  },
  {
   "cell_type": "markdown",
   "id": "f4f00988",
   "metadata": {},
   "source": [
    "From this exercise we can see that a dataframe can contain different types of data: real numbers (e.g. LoanAmount), integers (ApplicantIncome), categorical data (Gender), and strings (Loan_ID). \n",
    "\n"
   ]
  },
  {
   "cell_type": "code",
   "execution_count": null,
   "id": "52d5092b",
   "metadata": {},
   "outputs": [],
   "source": [
    "from pandas import read_csv\n",
    "\n",
    "# dataframe from .csv file\n",
    "df_loan = read_csv(\"data/loan_data.csv\") \n",
    "\n",
    "# display contents\n",
    "df_loan.head(10)"
   ]
  },
  {
   "cell_type": "markdown",
   "id": "37496ee4",
   "metadata": {},
   "source": [
    "```{.output}\n",
    "    Loan_ID  Gender Married  ... Loan_Amount_Term Credit_History Property_Area\n",
    "0  LP001015    Male     Yes  ...            360.0            1.0         Urban\n",
    "1  LP001022    Male     Yes  ...            360.0            1.0         Urban\n",
    "2  LP001031    Male     Yes  ...            360.0            1.0         Urban\n",
    "3  LP001035    Male     Yes  ...            360.0            NaN         Urban\n",
    "4  LP001051    Male      No  ...            360.0            1.0         Urban\n",
    "5  LP001054    Male     Yes  ...            360.0            1.0         Urban\n",
    "6  LP001055  Female      No  ...            360.0            1.0     Semiurban\n",
    "7  LP001056    Male     Yes  ...            360.0            0.0         Rural\n",
    "8  LP001059    Male     Yes  ...            240.0            1.0         Urban\n",
    "9  LP001067    Male      No  ...            360.0            1.0     Semiurban\n",
    "\n",
    "[10 rows x 12 columns]\n",
    "```\n",
    "\n",
    "## Accessing data in a DataFrame\n",
    "\n",
    "If a datafile is large and you only want to check the format of data in a specific column, you can limit the display to that column.\n",
    "To access data contained in a specific column of a dataframe, we can use a similar convention as in a Python dictionary, treating the column names as 'keys'. E.g. to show all rows in column 'Calcium', use:\n",
    "\n"
   ]
  },
  {
   "cell_type": "code",
   "execution_count": null,
   "id": "57d2463d",
   "metadata": {},
   "outputs": [],
   "source": [
    "df['calcium']"
   ]
  },
  {
   "cell_type": "markdown",
   "id": "0d4a805a",
   "metadata": {},
   "source": [
    "```{.output}\n",
    "0     3.455582\n",
    "1     3.669026\n",
    "2     2.789910\n",
    "3     2.939900\n",
    "4     5.426060\n",
    "5     0.715811\n",
    "6     5.652390\n",
    "7     3.571320\n",
    "8     4.300067\n",
    "9     1.369419\n",
    "10    2.550962\n",
    "11    2.894129\n",
    "12    3.664987\n",
    "13    1.362779\n",
    "14    3.718798\n",
    "15    1.865868\n",
    "16    3.272809\n",
    "17    3.917591\n",
    "Name: calcium, dtype: float64\n",
    "```"
   ]
  },
  {
   "cell_type": "markdown",
   "id": "d8868be8",
   "metadata": {},
   "source": [
    "To access individual rows of a column we use two pairs of square brackets:\n"
   ]
  },
  {
   "cell_type": "code",
   "execution_count": null,
   "id": "18607ab5",
   "metadata": {},
   "outputs": [],
   "source": [
    "df['calcium'][0:3]"
   ]
  },
  {
   "cell_type": "markdown",
   "id": "00fc33ff",
   "metadata": {},
   "source": [
    "```{.output}\n",
    "0    3.455582\n",
    "1    3.669026\n",
    "2    2.789910\n",
    "Name: calcium, dtype: float64\n",
    "```\n",
    "\n",
    "Here all rules for [slicing](https://docs.python.org/3/tutorial/introduction.html) can be applied.\n",
    "As for lists and tuples, the indexing of rows is semi-inclusive, lower boundary included, upper boundary excluded.\n",
    "Note that the first pair of square brackets refers to a column and the second pair refers to the rows. This is different from e.g. accessing items in a nested list.\n",
    "\n",
    "Accessing items in a Pandas dataframe is analogous to accessing the values in a Python dictionary by referring to its keys."
   ]
  },
  {
   "cell_type": "markdown",
   "id": "e1149624",
   "metadata": {},
   "source": [
    "To access non-contiguous elements, we use an additional pair of square brackets (as if for a list within a list):\n"
   ]
  },
  {
   "cell_type": "code",
   "execution_count": null,
   "id": "3434aa73",
   "metadata": {},
   "outputs": [],
   "source": [
    "df['calcium'][[1, 3, 7]]"
   ]
  },
  {
   "cell_type": "markdown",
   "id": "d6d45420",
   "metadata": {},
   "source": [
    "```{.output}\n",
    "1    3.669026\n",
    "3    2.939900\n",
    "7    3.571320\n",
    "Name: calcium, dtype: float64\n",
    "```\n",
    "\n",
    "Another possibility to index and slice a dataframe is the use of the 'index location' or `iloc` property. It refers first to rows and then to columns by index, all within a single pair of brackets. For example, to get all rows `:` of the first column (index `0`), you use:\n",
    "\n",
    "\n"
   ]
  },
  {
   "cell_type": "code",
   "execution_count": null,
   "id": "144d20aa",
   "metadata": {},
   "outputs": [],
   "source": [
    "df.iloc[:, 0]"
   ]
  },
  {
   "cell_type": "markdown",
   "id": "58508b97",
   "metadata": {},
   "source": [
    "```{.output}\n",
    "0     3.455582\n",
    "1     3.669026\n",
    "2     2.789910\n",
    "3     2.939900\n",
    "4     5.426060\n",
    "5     0.715811\n",
    "6     5.652390\n",
    "7     3.571320\n",
    "8     4.300067\n",
    "9     1.369419\n",
    "10    2.550962\n",
    "11    2.894129\n",
    "12    3.664987\n",
    "13    1.362779\n",
    "14    3.718798\n",
    "15    1.865868\n",
    "16    3.272809\n",
    "17    3.917591\n",
    "Name: calcium, dtype: float64\n",
    "```\n",
    "\n",
    "To display only the first three calcium concentrations, you use slicing, remembering that the upper bound is excluded):\n",
    "\n"
   ]
  },
  {
   "cell_type": "code",
   "execution_count": null,
   "id": "440b8f9b",
   "metadata": {},
   "outputs": [],
   "source": [
    "df.iloc[0:3, 0]"
   ]
  },
  {
   "cell_type": "markdown",
   "id": "7b498fd1",
   "metadata": {},
   "source": [
    "```{.output}\n",
    "0    3.455582\n",
    "1    3.669026\n",
    "2    2.789910\n",
    "Name: calcium, dtype: float64\n",
    "```\n",
    "\n",
    "To access non-consecutive values, we can use a pair of square brackets within the pair of square brackets: \n"
   ]
  },
  {
   "cell_type": "code",
   "execution_count": null,
   "id": "f2f741c5",
   "metadata": {},
   "outputs": [],
   "source": [
    "df.iloc[[2, 4, 7], 0]"
   ]
  },
  {
   "cell_type": "markdown",
   "id": "fdb7146d",
   "metadata": {},
   "source": [
    "```{.output}\n",
    "2    2.78991\n",
    "4    5.42606\n",
    "7    3.57132\n",
    "Name: calcium, dtype: float64\n",
    "```\n",
    "\n",
    "Similarly, we can access the values from multiple columns:\n",
    "\n"
   ]
  },
  {
   "cell_type": "code",
   "execution_count": null,
   "id": "630b8edd",
   "metadata": {},
   "outputs": [],
   "source": [
    "df.iloc[[2, 4, 7], :]"
   ]
  },
  {
   "cell_type": "markdown",
   "id": "90157164",
   "metadata": {},
   "source": [
    "```{.output}\n",
    "   calcium      sodium\n",
    "2  2.78991  105.821810\n",
    "4  5.42606   97.931489\n",
    "7  3.57132  112.647360\n",
    "```\n",
    "\n",
    "To pick only the even rows from the two columns, check this colon notation:\n",
    "\n"
   ]
  },
  {
   "cell_type": "code",
   "execution_count": null,
   "id": "cc096c05",
   "metadata": {},
   "outputs": [],
   "source": [
    "df.iloc[:18:2, :]"
   ]
  },
  {
   "cell_type": "markdown",
   "id": "dda5d858",
   "metadata": {},
   "source": [
    "```{.output}\n",
    "     calcium      sodium\n",
    "0   3.455582  112.690980\n",
    "2   2.789910  105.821810\n",
    "4   5.426060   97.931489\n",
    "6   5.652390  112.871500\n",
    "8   4.300067  132.031720\n",
    "10  2.550962  117.373730\n",
    "12  3.664987  105.346410\n",
    "14  3.718798  125.021060\n",
    "16  3.272809  117.588040\n",
    "```\n",
    "\n",
    "The number after the second colon indicates the stepsize."
   ]
  },
  {
   "cell_type": "markdown",
   "id": "97e35170",
   "metadata": {},
   "source": [
    "## DIY2: Select data from dataframe\n",
    "\n",
    "Display the calcium and sodium concentrations of all patients except the first. Check the model solution at the bottom for options.\n",
    "\n"
   ]
  },
  {
   "cell_type": "code",
   "execution_count": null,
   "id": "f11f0988",
   "metadata": {},
   "outputs": [],
   "source": [
    "df[['calcium', 'sodium']][1:]"
   ]
  },
  {
   "cell_type": "markdown",
   "id": "94961fbc",
   "metadata": {},
   "source": [
    "```{.output}\n",
    "     calcium      sodium\n",
    "1   3.669026  125.663330\n",
    "2   2.789910  105.821810\n",
    "3   2.939900   98.172772\n",
    "4   5.426060   97.931489\n",
    "5   0.715811  120.858330\n",
    "6   5.652390  112.871500\n",
    "7   3.571320  112.647360\n",
    "8   4.300067  132.031720\n",
    "9   1.369419  118.499010\n",
    "10  2.550962  117.373730\n",
    "11  2.894129  134.052390\n",
    "12  3.664987  105.346410\n",
    "13  1.362779  123.359490\n",
    "14  3.718798  125.021060\n",
    "15  1.865868  112.075420\n",
    "16  3.272809  117.588040\n",
    "17  3.917591  101.009870\n",
    "```\n"
   ]
  },
  {
   "cell_type": "markdown",
   "id": "c4375261",
   "metadata": {},
   "source": [
    "Mixing the ways to access specific data in a dataframe can be confusing and needs practice.\n",
    "\n",
    "### Search for missing values\n",
    "\n",
    "Some tables contain missing entries. You can check a dataframe for such missing entries. If no missing entry is found, the function `isnull` will return `False`.\n"
   ]
  },
  {
   "cell_type": "code",
   "execution_count": null,
   "id": "b0b19515",
   "metadata": {},
   "outputs": [],
   "source": [
    "df.isnull().any()"
   ]
  },
  {
   "cell_type": "markdown",
   "id": "3c8b18c2",
   "metadata": {},
   "source": [
    "```{.output}\n",
    "calcium    False\n",
    "sodium     False\n",
    "dtype: bool\n",
    "```\n",
    "\n",
    "This shows that there are no missing entries in our dataframe.\n",
    "\n",
    "## DIY3: Find NaN in dataframe\n",
    "\n",
    " In the Loan data set, check the entry 'Self-employed' for ID LP001059. It shows how a missing value is represented as 'NaN' (not a number).\n",
    "\n",
    " Verify that the output of `isnull` in this case is `True`\n",
    " \n"
   ]
  },
  {
   "cell_type": "code",
   "execution_count": null,
   "id": "ba0ee722",
   "metadata": {},
   "outputs": [],
   "source": [
    "df_loan['Self_Employed'][8]"
   ]
  },
  {
   "cell_type": "markdown",
   "id": "e5342cd6",
   "metadata": {},
   "source": [
    "```{.output}\n",
    "nan\n",
    "```\n",
    "\n"
   ]
  },
  {
   "cell_type": "code",
   "execution_count": null,
   "id": "58a9df73",
   "metadata": {},
   "outputs": [],
   "source": [
    "df_loan['Self_Employed'][8:9].isnull()"
   ]
  },
  {
   "cell_type": "markdown",
   "id": "6d582633",
   "metadata": {},
   "source": [
    "```{.output}\n",
    "8    True\n",
    "Name: Self_Employed, dtype: bool\n",
    "```\n"
   ]
  },
  {
   "cell_type": "markdown",
   "id": "474a99c5",
   "metadata": {},
   "source": [
    "## Basic data features\n",
    "\n",
    "### Summary Statistics\n",
    "\n",
    "To get a summary of basic data features use the function `describe`:\n",
    "\n"
   ]
  },
  {
   "cell_type": "code",
   "execution_count": null,
   "id": "03532b8c",
   "metadata": {},
   "outputs": [],
   "source": [
    "description = df.describe()\n",
    "\n",
    "description"
   ]
  },
  {
   "cell_type": "markdown",
   "id": "6a6a70c7",
   "metadata": {},
   "source": [
    "```{.output}\n",
    "         calcium      sodium\n",
    "count  18.000000   18.000000\n",
    "mean    3.174301  115.167484\n",
    "std     1.306652   10.756852\n",
    "min     0.715811   97.931489\n",
    "25%     2.610699  107.385212\n",
    "50%     3.364195  115.122615\n",
    "75%     3.706355  122.734200\n",
    "max     5.652390  134.052390\n",
    "```"
   ]
  },
  {
   "cell_type": "markdown",
   "id": "8f0b316f",
   "metadata": {},
   "source": [
    "The `describe` function produces a new dataframe (here called 'descrition') that contains the number of samples, the mean, the standard deviation, minimum, 25th, 50th, 75th  percentile, and the maximum value for each column of the data. Note that the indices of the rows have now been replaced by strings. To access rows, it is possible to refer to those names using the `loc` property. E.g. to access the mean of the calcium concentrations from the description, each of the following is valid:\n",
    "\n",
    "\n"
   ]
  },
  {
   "cell_type": "code",
   "execution_count": null,
   "id": "4a5bdb00",
   "metadata": {},
   "outputs": [],
   "source": [
    "# Option 1\n",
    "description.loc['mean']['calcium']\n",
    "\n",
    "# Option 2"
   ]
  },
  {
   "cell_type": "markdown",
   "id": "d9007c5f",
   "metadata": {},
   "source": [
    "```{.output}\n",
    "3.1743005405555555\n",
    "```"
   ]
  },
  {
   "cell_type": "code",
   "execution_count": null,
   "id": "915a1c9e",
   "metadata": {},
   "outputs": [],
   "source": [
    "description.loc['mean'][0]\n",
    "\n",
    "# Option 3"
   ]
  },
  {
   "cell_type": "markdown",
   "id": "ecd6bfdb",
   "metadata": {},
   "source": [
    "```{.output}\n",
    "3.1743005405555555\n",
    "```"
   ]
  },
  {
   "cell_type": "code",
   "execution_count": null,
   "id": "055116a3",
   "metadata": {},
   "outputs": [],
   "source": [
    "description['calcium']['mean']\n",
    "\n",
    "# Option 4"
   ]
  },
  {
   "cell_type": "markdown",
   "id": "6ab6793c",
   "metadata": {},
   "source": [
    "```{.output}\n",
    "3.1743005405555555\n",
    "```"
   ]
  },
  {
   "cell_type": "code",
   "execution_count": null,
   "id": "c35b3079",
   "metadata": {},
   "outputs": [],
   "source": [
    "description['calcium'][1]"
   ]
  },
  {
   "cell_type": "markdown",
   "id": "5108f202",
   "metadata": {},
   "source": [
    "```{.output}\n",
    "3.1743005405555555\n",
    "```"
   ]
  },
  {
   "cell_type": "markdown",
   "id": "8b64bc51",
   "metadata": {},
   "source": [
    "## DIY4: Practice\n",
    "\n",
    "Use your own .csv data set to practice. (If you don't have a data set at hand, any excel table can be exported as .csv.) Read it into a dataframe, check its header, access indivdual values or sets of values. Create a statistics using `describe` and check for missing values using `.isnull`.\n",
    "\n",
    " [ad libitum]"
   ]
  },
  {
   "cell_type": "markdown",
   "id": "56df9c23",
   "metadata": {},
   "source": [
    "### Iterating through the columns\n",
    "\n",
    "Now we know how to access all data in a dataframe and how to get a summary statistics over each column. \n",
    "\n",
    "Here is code to iterate through the columns and access the first two concentrations: \n",
    "\n"
   ]
  },
  {
   "cell_type": "code",
   "execution_count": null,
   "id": "3b8a4101",
   "metadata": {},
   "outputs": [],
   "source": [
    "for col in df:\n",
    "    \n",
    "    print(df[col][0:2])"
   ]
  },
  {
   "cell_type": "markdown",
   "id": "13b91288",
   "metadata": {},
   "source": [
    "```{.output}\n",
    "0    3.455582\n",
    "1    3.669026\n",
    "Name: calcium, dtype: float64\n",
    "0    112.69098\n",
    "1    125.66333\n",
    "Name: sodium, dtype: float64\n",
    "```\n",
    "\n",
    "As a slightly more complex example, we access the median ('50%') of each column in the description and add it to a list:\n",
    "\n"
   ]
  },
  {
   "cell_type": "code",
   "execution_count": null,
   "id": "94243409",
   "metadata": {},
   "outputs": [],
   "source": [
    "conc_medians = list()\n",
    "\n",
    "for col in df:\n",
    "    \n",
    "    conc_medians.append(df[col].describe()['50%'])\n",
    "\n",
    "print('The columns are: ', list(df.columns))"
   ]
  },
  {
   "cell_type": "markdown",
   "id": "e405be55",
   "metadata": {},
   "source": [
    "```{.output}\n",
    "The columns are:  ['calcium', 'sodium']\n",
    "```"
   ]
  },
  {
   "cell_type": "code",
   "execution_count": null,
   "id": "832cde4d",
   "metadata": {},
   "outputs": [],
   "source": [
    "print('The medians are: ', conc_medians)"
   ]
  },
  {
   "cell_type": "markdown",
   "id": "f63acd90",
   "metadata": {},
   "source": [
    "```{.output}\n",
    "The medians are:  [3.3641954, 115.122615]\n",
    "```\n",
    "\n",
    "This approach is useful for data frames with a large number of columns. For instance, it is possible to then create a boxplot or histogram for the means, medians etc. of the dataframe and thus to get an overview of all (comparable) columns. \n",
    "\n",
    "### Selecting a subset based on a template\n",
    "\n",
    "An analysis of a data set may need to be done on part of the data. This can often be formulated by using a logical condition which specifies the required subset.\n",
    "\n",
    "For this we will assume that some of the data are labelled '0' and some are labelled '1'. Let us therefore see how to add a new column to our Evereleys data frame which contains the (in this case arbitrary) labels.\n",
    "\n",
    "First we randomly create as many labels as we have rows in the data frame. We can use the `randint` function which we import from 'numpy.random'. `randint` in its simple form takes two arguments. First the upper bound of the integer needed, where by default it starts from zero. As Python is exclusive on the upper bound, providing '2' will thus yield either '0' or '1' only. \n",
    "\n",
    "\n"
   ]
  },
  {
   "cell_type": "code",
   "execution_count": null,
   "id": "45c79c62",
   "metadata": {},
   "outputs": [],
   "source": [
    "from numpy.random import randint\n",
    "\n",
    "no_rows = len(df)\n",
    "randomLabel = randint(2, size=no_rows)\n",
    "\n",
    "print('Number of rows:  ', no_rows)"
   ]
  },
  {
   "cell_type": "markdown",
   "id": "3681d902",
   "metadata": {},
   "source": [
    "```{.output}\n",
    "Number of rows:   18\n",
    "```"
   ]
  },
  {
   "cell_type": "code",
   "execution_count": null,
   "id": "2e0295b6",
   "metadata": {},
   "outputs": [],
   "source": [
    "print('Number of Labels:', len(randomLabel))"
   ]
  },
  {
   "cell_type": "markdown",
   "id": "33a65bba",
   "metadata": {},
   "source": [
    "```{.output}\n",
    "Number of Labels: 18\n",
    "```"
   ]
  },
  {
   "cell_type": "code",
   "execution_count": null,
   "id": "4ffeccbf",
   "metadata": {},
   "outputs": [],
   "source": [
    "print('Labels:          ', randomLabel)"
   ]
  },
  {
   "cell_type": "markdown",
   "id": "65d2e68e",
   "metadata": {},
   "source": [
    "```{.output}\n",
    "Labels:           [0 1 0 0 0 0 0 1 1 0 1 1 0 1 0 1 0 1]\n",
    "```"
   ]
  },
  {
   "cell_type": "markdown",
   "id": "64da663a",
   "metadata": {},
   "source": [
    "Note how we obtain the number of rows (18) using `len` and do not put it directly into the code. \n",
    "\n",
    "Now we create a new data column in our `df` dataframe which contains the labels. To create a new column, you can simply refer to a column name that does not yet exist and assign values to it. Let us call it 'gender', assuming that '0' represents male and '1' represents female. \n",
    "\n",
    "As gender specification can include more than two labels, try to create a column with more than two randomly assigned labels e.g. (0, 1, 2).\n",
    "\n",
    "\n"
   ]
  },
  {
   "cell_type": "code",
   "execution_count": null,
   "id": "e4d855a0",
   "metadata": {},
   "outputs": [],
   "source": [
    "df['gender'] = randomLabel\n",
    "\n",
    "df.head()"
   ]
  },
  {
   "cell_type": "markdown",
   "id": "34b0d9ec",
   "metadata": {},
   "source": [
    "```{.output}\n",
    "    calcium      sodium  gender\n",
    "0  3.455582  112.690980       0\n",
    "1  3.669026  125.663330       1\n",
    "2  2.789910  105.821810       0\n",
    "3  2.939900   98.172772       0\n",
    "4  5.426060   97.931489       0\n",
    "```\n",
    "\n",
    "Now we can use the information contained in 'gender' to filter the data by gender. To achieve this, we use a conditional statement. Let us check which of the rows are labelled as '1':\n",
    "\n",
    "\n"
   ]
  },
  {
   "cell_type": "code",
   "execution_count": null,
   "id": "a6061323",
   "metadata": {},
   "outputs": [],
   "source": [
    "df['gender'] == 1"
   ]
  },
  {
   "cell_type": "markdown",
   "id": "346c74a6",
   "metadata": {},
   "source": [
    "```{.output}\n",
    "0     False\n",
    "1      True\n",
    "2     False\n",
    "3     False\n",
    "4     False\n",
    "5     False\n",
    "6     False\n",
    "7      True\n",
    "8      True\n",
    "9     False\n",
    "10     True\n",
    "11     True\n",
    "12    False\n",
    "13     True\n",
    "14    False\n",
    "15     True\n",
    "16    False\n",
    "17     True\n",
    "Name: gender, dtype: bool\n",
    "```\n",
    "\n",
    "If we assign the result of the conditional statement (Boolean True or False) to a variable, then this variable can act as a template to filter the data. If we call the data frame with that variable, we will only get the rows where the condition was found to be True:\n"
   ]
  },
  {
   "cell_type": "code",
   "execution_count": null,
   "id": "19183058",
   "metadata": {},
   "outputs": [],
   "source": [
    "df_female = df['gender'] == 1\n",
    "\n",
    "df[df_female]"
   ]
  },
  {
   "cell_type": "markdown",
   "id": "d0bd01e3",
   "metadata": {},
   "source": [
    "```{.output}\n",
    "     calcium     sodium  gender\n",
    "1   3.669026  125.66333       1\n",
    "7   3.571320  112.64736       1\n",
    "8   4.300067  132.03172       1\n",
    "10  2.550962  117.37373       1\n",
    "11  2.894129  134.05239       1\n",
    "13  1.362779  123.35949       1\n",
    "15  1.865868  112.07542       1\n",
    "17  3.917591  101.00987       1\n",
    "```"
   ]
  },
  {
   "cell_type": "markdown",
   "id": "aa8e87e2",
   "metadata": {},
   "source": [
    "Using the Boolean, we only pick the rows that are labelled '1' and thus get a subset of the data according to the label. "
   ]
  },
  {
   "cell_type": "markdown",
   "id": "e7736886",
   "metadata": {},
   "source": [
    "## DIY5: Using a template\n",
    " \n",
    "Modify the code to calculate the number of samples labelled 0 and check the number of rows of that subset.\n",
    "\n"
   ]
  },
  {
   "cell_type": "code",
   "execution_count": null,
   "id": "2a05a694",
   "metadata": {},
   "outputs": [],
   "source": [
    "from numpy.random import randint\n",
    "\n",
    "no_rows = len(df)\n",
    "\n",
    "randomLabel = randint(2, size=no_rows)\n",
    "\n",
    "df['gender'] = randomLabel\n",
    "\n",
    "df_male = df['gender'] == 0\n",
    "\n",
    "no_males = len(df[df_male])\n",
    "\n",
    "print(no_males, 'samples are labelled \"male\".')"
   ]
  },
  {
   "cell_type": "markdown",
   "id": "668185ac",
   "metadata": {},
   "source": [
    "```{.output}\n",
    "10 samples are labelled \"male\".\n",
    "```\n",
    "## Visualisation of data\n",
    "\n",
    "It is easy to see from the numbers that the concentrations of sodium are much higher than that of calcium. However, to also compare the medians, percentiles and the spread of the data it is better to use visualisation. \n",
    "\n",
    "The simplest way of visualisation is to use Pandas functionality which offers direct ways of plotting. Here is an example where a boxplot is created for each column:\n",
    "\n"
   ]
  },
  {
   "cell_type": "code",
   "execution_count": null,
   "id": "799822a0",
   "metadata": {},
   "outputs": [],
   "source": [
    "import matplotlib.pyplot as plt\n",
    "df = read_csv(\"data/everleys_data.csv\") \n",
    "plt.boxplot(df)"
   ]
  },
  {
   "cell_type": "markdown",
   "id": "cc3a032c",
   "metadata": {},
   "source": [
    "```{.output}\n",
    "{'whiskers': [<matplotlib.lines.Line2D object at 0x7f60c16ed780>, <matplotlib.lines.Line2D object at 0x7f60c16ed900>, <matplotlib.lines.Line2D object at 0x7f60c16ee8f0>, <matplotlib.lines.Line2D object at 0x7f60c16eeb90>], 'caps': [<matplotlib.lines.Line2D object at 0x7f60c16edba0>, <matplotlib.lines.Line2D object at 0x7f60c16ede40>, <matplotlib.lines.Line2D object at 0x7f60c16eee30>, <matplotlib.lines.Line2D object at 0x7f60c16ef0d0>], 'boxes': [<matplotlib.lines.Line2D object at 0x7f60c16ed4e0>, <matplotlib.lines.Line2D object at 0x7f60c16ee650>], 'medians': [<matplotlib.lines.Line2D object at 0x7f60c16ee0e0>, <matplotlib.lines.Line2D object at 0x7f60c16ef370>], 'fliers': [<matplotlib.lines.Line2D object at 0x7f60c16ee380>, <matplotlib.lines.Line2D object at 0x7f60c16ef610>], 'means': []}\n",
    "```"
   ]
  },
  {
   "cell_type": "code",
   "execution_count": null,
   "id": "01727357",
   "metadata": {},
   "outputs": [],
   "source": [
    "plt.show()"
   ]
  },
  {
   "cell_type": "markdown",
   "id": "798847cb",
   "metadata": {},
   "source": [
    "<img src=\"fig/01-introduction-rendered-unnamed-chunk-35-1.png\" width=\"672\" style=\"display: block; margin: auto;\" />\n",
    "\n",
    "By default, boxplots are shown for all columns if no further argument is given to the function (empty round parenthesis). As the calcium plot is rather squeezed we may wish to see it individually. This can be done by specifying the calcium column as an argument:\n",
    "    \n",
    "\n"
   ]
  },
  {
   "cell_type": "code",
   "execution_count": null,
   "id": "8372ee4b",
   "metadata": {},
   "outputs": [],
   "source": [
    "\n",
    "# Boxplot of calcium results\n",
    "# df.boxplot(column='calcium');\n",
    "\n",
    "\n",
    "plt.boxplot(df['calcium'])"
   ]
  },
  {
   "cell_type": "markdown",
   "id": "79ac2179",
   "metadata": {},
   "source": [
    "```{.output}\n",
    "{'whiskers': [<matplotlib.lines.Line2D object at 0x7f60c16ef9d0>, <matplotlib.lines.Line2D object at 0x7f60c16a9960>], 'caps': [<matplotlib.lines.Line2D object at 0x7f60c16a9720>, <matplotlib.lines.Line2D object at 0x7f60c16aba30>], 'boxes': [<matplotlib.lines.Line2D object at 0x7f60c15b6560>], 'medians': [<matplotlib.lines.Line2D object at 0x7f60c17305b0>], 'fliers': [<matplotlib.lines.Line2D object at 0x7f60c15e18a0>], 'means': []}\n",
    "```"
   ]
  },
  {
   "cell_type": "code",
   "execution_count": null,
   "id": "e066c33c",
   "metadata": {},
   "outputs": [],
   "source": [
    "plt.show()"
   ]
  },
  {
   "cell_type": "markdown",
   "id": "e3c4cbc3",
   "metadata": {},
   "source": [
    "<img src=\"fig/01-introduction-rendered-unnamed-chunk-36-3.png\" width=\"672\" style=\"display: block; margin: auto;\" />\n",
    "\n",
    "### Plots using Matplotlib\n",
    "\n",
    "> [__Matplotlib__](https://matplotlib.org) is a comprehensive library for creating static, animated, and interactive visualizations in Python.\n",
    "\n",
    "The above is an easy way to create boxplots directly on the dataframe. It is based on the library Matplotlib and specifically uses the __pyplot library__. For simplicity, the code is put in a convenient Pandas function. \n",
    "\n",
    "However, we are going to use __Matplotlib__ extensively later on in the course, and we therefore now introduce the direct, generic way of using it.\n",
    "\n",
    "For this, we import the function `subplots` from the [pyplot library](https://matplotlib.org/stable/api/pyplot_summary.html):\n",
    "\n",
    "\n"
   ]
  },
  {
   "cell_type": "code",
   "execution_count": null,
   "id": "05e17b45",
   "metadata": {},
   "outputs": [],
   "source": [
    "from matplotlib.pyplot import subplots"
   ]
  },
  {
   "cell_type": "markdown",
   "id": "cd039728",
   "metadata": {},
   "source": [
    "The way to use `subplots` is to first set up a figure environment (below it is called 'fig') and an empty coordinate system (below called 'ax'). The plot is then done using one of the many methods available in Matplotlib. We apply it to the coordinate system 'ax'. \n",
    "\n",
    "As an example, let us create a [boxplot](https://matplotlib.org/api/_as_gen/matplotlib.pyplot.boxplot.html#matplotlib.pyplot.boxplot|) of the calcium variable. As an argument of the function we need to specify the data. We can use the values of the 'calcium' concentrations from the column with that name:\n",
    "\n",
    "\n"
   ]
  },
  {
   "cell_type": "code",
   "execution_count": null,
   "id": "8746f04a",
   "metadata": {},
   "outputs": [],
   "source": [
    "fig, ax = subplots()\n",
    "\n",
    "ax.boxplot(df['calcium'])"
   ]
  },
  {
   "cell_type": "markdown",
   "id": "fd8ac59a",
   "metadata": {},
   "source": [
    "```{.output}\n",
    "{'whiskers': [<matplotlib.lines.Line2D object at 0x7f60c1632830>, <matplotlib.lines.Line2D object at 0x7f60c1632ad0>], 'caps': [<matplotlib.lines.Line2D object at 0x7f60c1632d70>, <matplotlib.lines.Line2D object at 0x7f60c1633010>], 'boxes': [<matplotlib.lines.Line2D object at 0x7f60c1632590>], 'medians': [<matplotlib.lines.Line2D object at 0x7f60c16332b0>], 'fliers': [<matplotlib.lines.Line2D object at 0x7f60c1633550>], 'means': []}\n",
    "```"
   ]
  },
  {
   "cell_type": "code",
   "execution_count": null,
   "id": "a80d879f",
   "metadata": {},
   "outputs": [],
   "source": [
    "ax.set_title('Boxplot of Everley\\'s Calcium');\n"
   ]
  },
  {
   "cell_type": "markdown",
   "id": "c7934fb4",
   "metadata": {},
   "source": [
    "![png](fig/output_93_0.png)\n",
    "\n",
    "Note how following the actual plot we define the title of the plot by referring to the same coordinate system `ax`.\n",
    "\n",
    "The value of `subplots` becomes apparent when we try to create more than one plot in a single figure. \n",
    "\n",
    "Here is an example to create two boxplots next to each other. The keyword arguments to use is 'ncols' which is the number of figures per row. 'ncols=2' indicates that you want to have two plots next to each other. \n",
    "\n",
    "\n"
   ]
  },
  {
   "cell_type": "code",
   "execution_count": null,
   "id": "482c2460",
   "metadata": {},
   "outputs": [],
   "source": [
    "fig, ax = subplots(ncols=2)\n",
    "\n",
    "ax[0].boxplot(df['calcium'])"
   ]
  },
  {
   "cell_type": "markdown",
   "id": "32731695",
   "metadata": {},
   "source": [
    "```{.output}\n",
    "{'whiskers': [<matplotlib.lines.Line2D object at 0x7f60c14c95a0>, <matplotlib.lines.Line2D object at 0x7f60c14c9840>], 'caps': [<matplotlib.lines.Line2D object at 0x7f60c14c9ae0>, <matplotlib.lines.Line2D object at 0x7f60c14c9d80>], 'boxes': [<matplotlib.lines.Line2D object at 0x7f60c14c9300>], 'medians': [<matplotlib.lines.Line2D object at 0x7f60c14ca020>], 'fliers': [<matplotlib.lines.Line2D object at 0x7f60c14ca2c0>], 'means': []}\n",
    "```"
   ]
  },
  {
   "cell_type": "code",
   "execution_count": null,
   "id": "12502fd6",
   "metadata": {},
   "outputs": [],
   "source": [
    "ax[0].set_title('Calcium')\n",
    "\n",
    "ax[1].boxplot(df['sodium'])"
   ]
  },
  {
   "cell_type": "markdown",
   "id": "3960a253",
   "metadata": {},
   "source": [
    "```{.output}\n",
    "{'whiskers': [<matplotlib.lines.Line2D object at 0x7f60c14caaa0>, <matplotlib.lines.Line2D object at 0x7f60c14cad40>], 'caps': [<matplotlib.lines.Line2D object at 0x7f60c14cafe0>, <matplotlib.lines.Line2D object at 0x7f60c14cb280>], 'boxes': [<matplotlib.lines.Line2D object at 0x7f60c14ca800>], 'medians': [<matplotlib.lines.Line2D object at 0x7f60c14cb520>], 'fliers': [<matplotlib.lines.Line2D object at 0x7f60c14cb7c0>], 'means': []}\n",
    "```"
   ]
  },
  {
   "cell_type": "code",
   "execution_count": null,
   "id": "aec7c886",
   "metadata": {
    "lines_to_next_cell": 0
   },
   "outputs": [],
   "source": [
    "ax[1].set_title('Sodium');"
   ]
  },
  {
   "cell_type": "markdown",
   "id": "ec87fbf7",
   "metadata": {},
   "source": []
  },
  {
   "cell_type": "markdown",
   "id": "ac5cec07",
   "metadata": {},
   "source": [
    "![png](fig/output_95_0.png)\n",
    "    "
   ]
  },
  {
   "cell_type": "markdown",
   "id": "b4012d47",
   "metadata": {},
   "source": [
    "Note that you now have to refer to each of the subplots by indexing the coordinate system 'ax'. \n",
    "|\n",
    "This figure gives a good overview of the Everley's data."
   ]
  },
  {
   "cell_type": "markdown",
   "id": "11d987e2",
   "metadata": {},
   "source": [
    "If you prefer to have the boxplots of both columns in a single figure, that can also be done:\n",
    "\n"
   ]
  },
  {
   "cell_type": "code",
   "execution_count": null,
   "id": "cc2c3c45",
   "metadata": {},
   "outputs": [],
   "source": [
    "fig, ax = subplots(ncols=1, nrows=1)\n",
    "\n",
    "ax.boxplot([df['calcium'], df['sodium']], positions=[1, 2])"
   ]
  },
  {
   "cell_type": "markdown",
   "id": "e97c7e18",
   "metadata": {},
   "source": [
    "```{.output}\n",
    "{'whiskers': [<matplotlib.lines.Line2D object at 0x7f60c152d510>, <matplotlib.lines.Line2D object at 0x7f60c152dc90>, <matplotlib.lines.Line2D object at 0x7f60c152ec50>, <matplotlib.lines.Line2D object at 0x7f60c152eef0>], 'caps': [<matplotlib.lines.Line2D object at 0x7f60c152df30>, <matplotlib.lines.Line2D object at 0x7f60c152e1d0>, <matplotlib.lines.Line2D object at 0x7f60c152f190>, <matplotlib.lines.Line2D object at 0x7f60c152f430>], 'boxes': [<matplotlib.lines.Line2D object at 0x7f60c152d870>, <matplotlib.lines.Line2D object at 0x7f60c152e9b0>], 'medians': [<matplotlib.lines.Line2D object at 0x7f60c152e470>, <matplotlib.lines.Line2D object at 0x7f60c152f6d0>], 'fliers': [<matplotlib.lines.Line2D object at 0x7f60c152e710>, <matplotlib.lines.Line2D object at 0x7f60c152f970>], 'means': []}\n",
    "```"
   ]
  },
  {
   "cell_type": "code",
   "execution_count": null,
   "id": "0dded330",
   "metadata": {},
   "outputs": [],
   "source": [
    "ax.set_title('Boxplot of Calcium (left) and Sodium (right)')"
   ]
  },
  {
   "cell_type": "markdown",
   "id": "ee00932c",
   "metadata": {},
   "source": [
    "<img src=\"fig/01-introduction-rendered-unnamed-chunk-40-5.png\" width=\"672\" style=\"display: block; margin: auto;\" />"
   ]
  },
  {
   "cell_type": "markdown",
   "id": "698ed563",
   "metadata": {},
   "source": [
    "![png](fig/output_98_1.png)"
   ]
  },
  {
   "cell_type": "markdown",
   "id": "fb1ead52",
   "metadata": {},
   "source": [
    "### DIY6: Boxplot from Loan data\n",
    "\n",
    "Plot the boxplots of the 'ApplicantIncome' and the 'CoapplicantIncome' in the Loan data using the above code.\n",
    "\n"
   ]
  },
  {
   "cell_type": "code",
   "execution_count": null,
   "id": "42c81462",
   "metadata": {},
   "outputs": [],
   "source": [
    "fig, ax = subplots(ncols=1, nrows=1)\n",
    "\n",
    "ax.boxplot([df_loan['ApplicantIncome'], df_loan['CoapplicantIncome']], positions=[1, 2])"
   ]
  },
  {
   "cell_type": "markdown",
   "id": "78c2f983",
   "metadata": {},
   "source": [
    "```{.output}\n",
    "{'whiskers': [<matplotlib.lines.Line2D object at 0x7f60c13ae0e0>, <matplotlib.lines.Line2D object at 0x7f60c13ae380>, <matplotlib.lines.Line2D object at 0x7f60c13af340>, <matplotlib.lines.Line2D object at 0x7f60c13af5e0>], 'caps': [<matplotlib.lines.Line2D object at 0x7f60c13ae620>, <matplotlib.lines.Line2D object at 0x7f60c13ae8c0>, <matplotlib.lines.Line2D object at 0x7f60c13af880>, <matplotlib.lines.Line2D object at 0x7f60c13afb20>], 'boxes': [<matplotlib.lines.Line2D object at 0x7f60c13adab0>, <matplotlib.lines.Line2D object at 0x7f60c13af0a0>], 'medians': [<matplotlib.lines.Line2D object at 0x7f60c13aeb60>, <matplotlib.lines.Line2D object at 0x7f60c13afdc0>], 'fliers': [<matplotlib.lines.Line2D object at 0x7f60c13aee00>, <matplotlib.lines.Line2D object at 0x7f60c13e80a0>], 'means': []}\n",
    "```"
   ]
  },
  {
   "cell_type": "code",
   "execution_count": null,
   "id": "f2f7532b",
   "metadata": {
    "lines_to_next_cell": 0
   },
   "outputs": [],
   "source": [
    "ax.set_title('Applicant Income (left) & Co-Applicant Income (right)');"
   ]
  },
  {
   "cell_type": "markdown",
   "id": "6a190f14",
   "metadata": {},
   "source": []
  },
  {
   "cell_type": "markdown",
   "id": "5628e0f8",
   "metadata": {},
   "source": [
    "![Applicant Income (left) & Co-Applicant Income (right)](fig/output_139_0.png)\n"
   ]
  },
  {
   "cell_type": "markdown",
   "id": "b66bc5d7",
   "metadata": {},
   "source": [
    "### Histogram\n",
    "\n",
    "Another good overview is the histogram: Containers or 'bins' are created over the range of values found within a column and the count of the values for each bin is plotted on the vertical axis.\n",
    "\n",
    "\n"
   ]
  },
  {
   "cell_type": "code",
   "execution_count": null,
   "id": "d1e60a64",
   "metadata": {},
   "outputs": [],
   "source": [
    "fig, ax = subplots(ncols=2, nrows=1)\n",
    "\n",
    "ax[0].hist(df['calcium'])"
   ]
  },
  {
   "cell_type": "markdown",
   "id": "5e9e0f17",
   "metadata": {},
   "source": [
    "```{.output}\n",
    "(array([1., 2., 1., 1., 3., 5., 2., 1., 0., 2.]), array([0.71581063, 1.20946859, 1.70312654, 2.1967845 , 2.69044246,\n",
    "       3.18410042, 3.67775837, 4.17141633, 4.66507429, 5.15873224,\n",
    "       5.6523902 ]), <BarContainer object of 10 artists>)\n",
    "```"
   ]
  },
  {
   "cell_type": "code",
   "execution_count": null,
   "id": "036b3ef6",
   "metadata": {},
   "outputs": [],
   "source": [
    "ax[0].set(xlabel='Calcium', ylabel='Count');\n",
    "\n",
    "ax[1].hist(df['sodium'])"
   ]
  },
  {
   "cell_type": "markdown",
   "id": "1e2bc43f",
   "metadata": {},
   "source": [
    "```{.output}\n",
    "(array([3., 0., 2., 1., 3., 3., 1., 3., 0., 2.]), array([ 97.931489 , 101.5435791, 105.1556692, 108.7677593, 112.3798494,\n",
    "       115.9919395, 119.6040296, 123.2161197, 126.8282098, 130.4402999,\n",
    "       134.05239  ]), <BarContainer object of 10 artists>)\n",
    "```"
   ]
  },
  {
   "cell_type": "code",
   "execution_count": null,
   "id": "9eeafb1e",
   "metadata": {
    "lines_to_next_cell": 2
   },
   "outputs": [],
   "source": [
    "ax[1].set(xlabel='Sodium', ylabel='Count');\n",
    "\n",
    "fig.suptitle('Histograms of Everley concentrations', fontsize=15);"
   ]
  },
  {
   "cell_type": "markdown",
   "id": "c5aec69c",
   "metadata": {},
   "source": [
    "![png](fig/output_102_0.png)\n",
    "    "
   ]
  },
  {
   "cell_type": "markdown",
   "id": "eaf23116",
   "metadata": {},
   "source": [
    "This also shows how to add labels to the axes and a title to the overall figure.\n",
    "\n",
    "This uses the default value for the generation of the bins. It is set to 10 bins over the range of which values are found. The number of bins in the histogram can be changed using the keyword argument 'bins':\n",
    "\n"
   ]
  },
  {
   "cell_type": "code",
   "execution_count": null,
   "id": "992851b6",
   "metadata": {},
   "outputs": [],
   "source": [
    "fig, ax = subplots(ncols=2, nrows=1)\n",
    "\n",
    "ax[0].hist(df['calcium'], bins=5)"
   ]
  },
  {
   "cell_type": "markdown",
   "id": "f8c54ccf",
   "metadata": {},
   "source": [
    "```{.output}\n",
    "(array([3., 2., 8., 3., 2.]), array([0.71581063, 1.70312654, 2.69044246, 3.67775837, 4.66507429,\n",
    "       5.6523902 ]), <BarContainer object of 5 artists>)\n",
    "```"
   ]
  },
  {
   "cell_type": "code",
   "execution_count": null,
   "id": "b3deb344",
   "metadata": {},
   "outputs": [],
   "source": [
    "ax[0].set(xlabel='Calcium, 5 bins', ylabel='Count');\n",
    "\n",
    "ax[1].hist(df['calcium'], bins=15)"
   ]
  },
  {
   "cell_type": "markdown",
   "id": "83880953",
   "metadata": {},
   "source": [
    "```{.output}\n",
    "(array([1., 2., 0., 1., 0., 1., 3., 1., 4., 2., 1., 0., 0., 0., 2.]), array([0.71581063, 1.04491593, 1.37402124, 1.70312654, 2.03223185,\n",
    "       2.36133715, 2.69044246, 3.01954776, 3.34865307, 3.67775837,\n",
    "       4.00686368, 4.33596898, 4.66507429, 4.99417959, 5.3232849 ,\n",
    "       5.6523902 ]), <BarContainer object of 15 artists>)\n",
    "```"
   ]
  },
  {
   "cell_type": "code",
   "execution_count": null,
   "id": "3f010525",
   "metadata": {
    "lines_to_next_cell": 0
   },
   "outputs": [],
   "source": [
    "ax[1].set(xlabel='Calcium, 15 bins', ylabel='Count');\n",
    "fig.suptitle('Histograms with Different Binnings', fontsize=16);"
   ]
  },
  {
   "cell_type": "markdown",
   "id": "0f6d2fa2",
   "metadata": {},
   "source": []
  },
  {
   "cell_type": "markdown",
   "id": "11a3bf8a",
   "metadata": {},
   "source": [
    "![png](fig/output_104_0.png)\n",
    "    "
   ]
  },
  {
   "cell_type": "markdown",
   "id": "a214d07c",
   "metadata": {},
   "source": [
    "Note how the y-label of the right figure is not placed well. To correct for the placement of the labels and the title, you can use \n",
    "`tight_layout` on the figure:\n",
    "\n",
    "\n"
   ]
  },
  {
   "cell_type": "code",
   "execution_count": null,
   "id": "216e6ef9",
   "metadata": {},
   "outputs": [],
   "source": [
    "fig, ax = subplots(ncols=2, nrows=1)\n",
    "\n",
    "ax[0].hist(df['calcium'], bins=5)"
   ]
  },
  {
   "cell_type": "markdown",
   "id": "ce40ccf9",
   "metadata": {},
   "source": [
    "```{.output}\n",
    "(array([3., 2., 8., 3., 2.]), array([0.71581063, 1.70312654, 2.69044246, 3.67775837, 4.66507429,\n",
    "       5.6523902 ]), <BarContainer object of 5 artists>)\n",
    "```"
   ]
  },
  {
   "cell_type": "code",
   "execution_count": null,
   "id": "668546e5",
   "metadata": {},
   "outputs": [],
   "source": [
    "ax[0].set(xlabel='Calcium, 5 bins', ylabel='Count');\n",
    "\n",
    "ax[1].hist(df['calcium'], bins=15)"
   ]
  },
  {
   "cell_type": "markdown",
   "id": "e8b846f0",
   "metadata": {},
   "source": [
    "```{.output}\n",
    "(array([1., 2., 0., 1., 0., 1., 3., 1., 4., 2., 1., 0., 0., 0., 2.]), array([0.71581063, 1.04491593, 1.37402124, 1.70312654, 2.03223185,\n",
    "       2.36133715, 2.69044246, 3.01954776, 3.34865307, 3.67775837,\n",
    "       4.00686368, 4.33596898, 4.66507429, 4.99417959, 5.3232849 ,\n",
    "       5.6523902 ]), <BarContainer object of 15 artists>)\n",
    "```"
   ]
  },
  {
   "cell_type": "code",
   "execution_count": null,
   "id": "338be08d",
   "metadata": {
    "lines_to_next_cell": 0
   },
   "outputs": [],
   "source": [
    "ax[1].set(xlabel='Calcium, 15 bins', ylabel='Count');\n",
    "fig.suptitle('Histograms with Different Binnings', fontsize=16);\n",
    "fig.tight_layout()"
   ]
  },
  {
   "cell_type": "markdown",
   "id": "54d4817b",
   "metadata": {},
   "source": []
  },
  {
   "cell_type": "markdown",
   "id": "a26370b0",
   "metadata": {},
   "source": [
    "![png](fig/output_106_0.png)"
   ]
  },
  {
   "cell_type": "markdown",
   "id": "c3ceecb6",
   "metadata": {},
   "source": [
    "## DIY7: Create the histogram of a column\n",
    "\n",
    "Take the loan data and display the histogram of the loan amount that people asked for. (Loan amounts are divided by 1000, i.e. in k£ on the horizontal axis).  Use e.g. 20 bins. \n",
    "\n",
    "\n"
   ]
  },
  {
   "cell_type": "code",
   "execution_count": null,
   "id": "8f90a4fb",
   "metadata": {},
   "outputs": [],
   "source": [
    "# Histogram of loan amounts in k£\n",
    "\n",
    "fig, ax = subplots()\n",
    "\n",
    "ax.hist(df_loan['LoanAmount'], bins=20)"
   ]
  },
  {
   "cell_type": "markdown",
   "id": "fee59694",
   "metadata": {},
   "source": [
    "```{.output}\n",
    "(array([12., 34., 63., 97., 67., 33., 28.,  9.,  6.,  2.,  5.,  1.,  1.,\n",
    "        1.,  1.,  0.,  1.,  0.,  0.,  1.]), array([ 28. ,  54.1,  80.2, 106.3, 132.4, 158.5, 184.6, 210.7, 236.8,\n",
    "       262.9, 289. , 315.1, 341.2, 367.3, 393.4, 419.5, 445.6, 471.7,\n",
    "       497.8, 523.9, 550. ]), <BarContainer object of 20 artists>)\n",
    "```"
   ]
  },
  {
   "cell_type": "code",
   "execution_count": null,
   "id": "a8a74772",
   "metadata": {
    "lines_to_next_cell": 0
   },
   "outputs": [],
   "source": [
    "ax.set(xlabel='Loan amount', ylabel='Count');\n",
    "\n",
    "ax.set_title('Histograms of Loan Amounts', fontsize=16);"
   ]
  },
  {
   "cell_type": "markdown",
   "id": "7d7abf2c",
   "metadata": {},
   "source": []
  },
  {
   "cell_type": "markdown",
   "id": "37e3d977",
   "metadata": {},
   "source": [
    "![Histograms of Loan Amounts](fig/output_142_0.png)\n",
    "\n",
    "##  Handling the Diabetes Data Set\n",
    "\n",
    "We now return to the data set that started our enquiry into the handling of data in a dataframe. \n",
    "\n",
    "We will now:\n",
    "\n",
    "- Import the diabetes data from 'sklearn'\n",
    "- Check the shape of the dataframe and search for NANs\n",
    "- Get a summary plot of one of its statistical quantities (e.g. mean) for all columns\n",
    "\n",
    "First we import the data set and check its `head`. Wait until the numbers show below the code, it might take a while.\n",
    "\n"
   ]
  },
  {
   "cell_type": "code",
   "execution_count": null,
   "id": "f917af0b",
   "metadata": {},
   "outputs": [],
   "source": [
    "from sklearn import datasets\n",
    "\n",
    "diabetes = datasets.load_diabetes()\n",
    "\n",
    "X = diabetes.data\n",
    "\n",
    "from pandas import DataFrame\n",
    "\n",
    "df_diabetes = DataFrame(data=X)\n",
    "\n",
    "df_diabetes.head()"
   ]
  },
  {
   "cell_type": "markdown",
   "id": "502ee88b",
   "metadata": {},
   "source": [
    "```{.output}\n",
    "          0         1         2  ...         7         8         9\n",
    "0  0.038076  0.050680  0.061696  ... -0.002592  0.019907 -0.017646\n",
    "1 -0.001882 -0.044642 -0.051474  ... -0.039493 -0.068332 -0.092204\n",
    "2  0.085299  0.050680  0.044451  ... -0.002592  0.002861 -0.025930\n",
    "3 -0.089063 -0.044642 -0.011595  ...  0.034309  0.022688 -0.009362\n",
    "4  0.005383 -0.044642 -0.036385  ... -0.002592 -0.031988 -0.046641\n",
    "\n",
    "[5 rows x 10 columns]\n",
    "```"
   ]
  },
  {
   "cell_type": "markdown",
   "id": "93a2a107",
   "metadata": {},
   "source": [
    "If you don't see all columns, use the cursor to scroll to the right.\n",
    "\n",
    "Now let's check the number of columns and rows.\n",
    "\n"
   ]
  },
  {
   "cell_type": "code",
   "execution_count": null,
   "id": "6e3842f6",
   "metadata": {},
   "outputs": [],
   "source": [
    "no_rows = len(df_diabetes)\n",
    "no_cols = len(df_diabetes.columns)\n",
    "\n",
    "print('Rows:', no_rows, 'Columns:', no_cols)"
   ]
  },
  {
   "cell_type": "markdown",
   "id": "5356b030",
   "metadata": {},
   "source": [
    "```{.output}\n",
    "Rows: 442 Columns: 10\n",
    "```\n",
    "\n",
    "There are 442 rows organised in 10 columns."
   ]
  },
  {
   "cell_type": "markdown",
   "id": "3a1cc200",
   "metadata": {},
   "source": [
    "To get an overview, let us extract the mean of each column using 'describe' and plot all means as a bar chart. The Matplotlib function to plot a bar chart is `bar`:\n",
    "\n",
    "\n"
   ]
  },
  {
   "cell_type": "code",
   "execution_count": null,
   "id": "5ecf59ac",
   "metadata": {},
   "outputs": [],
   "source": [
    "conc_means = list()\n",
    "\n",
    "for col in df_diabetes:\n",
    "    conc_means.append(df_diabetes[col].describe()['mean'])\n",
    "\n",
    "print('The columns are: ', list(df_diabetes.columns))"
   ]
  },
  {
   "cell_type": "markdown",
   "id": "b3753240",
   "metadata": {},
   "source": [
    "```{.output}\n",
    "The columns are:  [0, 1, 2, 3, 4, 5, 6, 7, 8, 9]\n",
    "```"
   ]
  },
  {
   "cell_type": "code",
   "execution_count": null,
   "id": "c1090ad0",
   "metadata": {},
   "outputs": [],
   "source": [
    "print('The medians are: ', conc_means, 2)"
   ]
  },
  {
   "cell_type": "markdown",
   "id": "7b38684a",
   "metadata": {},
   "source": [
    "```{.output}\n",
    "The medians are:  [-2.511816797794472e-19, 1.2307902309192911e-17, -2.2455642172282577e-16, -4.7975700837874414e-17, -1.3814992387869595e-17, 3.918434204559376e-17, -5.7771786349272854e-18, -9.042540472060099e-18, 9.293722151839546e-17, 1.1303175590075123e-17] 2\n",
    "```"
   ]
  },
  {
   "cell_type": "code",
   "execution_count": null,
   "id": "62d0d25d",
   "metadata": {
    "lines_to_next_cell": 2
   },
   "outputs": [],
   "source": [
    "fig, ax = subplots()\n",
    "\n",
    "bins = range(10)\n",
    "\n",
    "ax.bar(bins, conc_means);"
   ]
  },
  {
   "cell_type": "markdown",
   "id": "22ac23f0",
   "metadata": {},
   "source": [
    "![png](fig/output_116_1.png)\n",
    "    "
   ]
  },
  {
   "cell_type": "markdown",
   "id": "a1a8680a",
   "metadata": {},
   "source": [
    "The bars in this plot go up and down. Note, however, that the vertical axis has values ranging from -10^(-15) to +10^(-15). This means that for all practical purposes all means are zero. This is not a coincidence. The original values have been normalised to zero mean for the purpose of applying some machine learning algorithm to them. \n",
    "\n",
    "In this example, we see how important it is to check the data before working with them. \n"
   ]
  },
  {
   "cell_type": "markdown",
   "id": "a7aabbc1",
   "metadata": {},
   "source": [
    "## Assignment: The cervical cancer data set\n",
    "\n",
    "Download the cervical cancer data set provided, import it using `read_csv`.\n",
    "\n",
    "- How many rows and columns are there?\n",
    "- How many columns contain floating point numbers (float64)?\n",
    "- How many of the subjects are smokers?\n",
    "- Calculate the percentage of smokers\n",
    "- Plot the age distribution (with e.g. 50 bins)\n",
    "- Get the mean and standard distribution of age of first sexual intercourse\n",
    "\n",
    "\n"
   ]
  },
  {
   "cell_type": "markdown",
   "id": "af0e002c",
   "metadata": {},
   "source": [
    "- learned importing data set as dataframe\n",
    "- learned inspecting data frame and accessing data\n",
    "- Producing an overview of data features\n",
    "- Creating data plots using matplotlib"
   ]
  },
  {
   "cell_type": "markdown",
   "id": "dcb5b0e1",
   "metadata": {},
   "source": [
    "## Download the pdf\n",
    "\n",
    "This section's pdf can be accessed at:[Download pdf](01-introduction.md.pdf)\n",
    "\n",
    "## Download jupyter notebook\n",
    "\n",
    "This section's material in jupyter notebook can be accessed at:[Download notebook (ipynb)](01-introduction.ipynb)"
   ]
  },
  {
   "cell_type": "markdown",
   "id": "51bc85c1",
   "metadata": {},
   "source": [
    "[r-markdown]: https://rmarkdown.rstudio.com/"
   ]
  }
 ],
 "metadata": {
  "jupytext": {
   "cell_metadata_filter": "-all",
   "main_language": "python",
   "notebook_metadata_filter": "-all"
  }
 },
 "nbformat": 4,
 "nbformat_minor": 5
}
